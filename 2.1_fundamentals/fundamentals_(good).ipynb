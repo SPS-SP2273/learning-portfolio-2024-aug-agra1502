{
 "cells": [
  {
   "attachments": {},
   "cell_type": "markdown",
   "id": "123456",
   "metadata": {},
   "source": [
    "<div style=\"text-align:left;font-size:2em\"><span style=\"font-weight:bolder;font-size:1.25em\">SP2273 | Learning Portfolio</span><br><br><span style=\"font-weight:bold;color:darkred\">Fundamentals (Good)</span></div>"
   ]
  },
  {
   "attachments": {},
   "cell_type": "markdown",
   "id": "f894ed7c",
   "metadata": {},
   "source": [
    "# What to expect in this chapter"
   ]
  },
  {
   "attachments": {},
   "cell_type": "markdown",
   "id": "1a601407",
   "metadata": {},
   "source": [
    "# 1 There is more to if"
   ]
  },
  {
   "attachments": {},
   "cell_type": "markdown",
   "id": "347aea51",
   "metadata": {},
   "source": [
    "# 2 Asking questions"
   ]
  },
  {
   "cell_type": "code",
   "execution_count": 4,
   "id": "92c1fc7f-75a5-45c7-b16e-268b0960de07",
   "metadata": {},
   "outputs": [
    {
     "data": {
      "text/plain": [
       "False"
      ]
     },
     "execution_count": 4,
     "metadata": {},
     "output_type": "execute_result"
    }
   ],
   "source": [
    "fruits = ['apple', 'banana', 'pineapple', 'jackfruit']\n",
    "vegetables = ['celery', 'potato', 'broccoli', 'kale']\n",
    "\n",
    "'apple' in fruits"
   ]
  },
  {
   "cell_type": "code",
   "execution_count": 5,
   "id": "d12c0c55-cc9a-4e0b-869a-477a78106c59",
   "metadata": {},
   "outputs": [
    {
     "data": {
      "text/plain": [
       "False"
      ]
     },
     "execution_count": 5,
     "metadata": {},
     "output_type": "execute_result"
    }
   ],
   "source": [
    "('apple' in fruits) and ('banana' in vegetables)"
   ]
  },
  {
   "attachments": {},
   "cell_type": "markdown",
   "id": "7c2bc36e",
   "metadata": {},
   "source": [
    "## 2.1 Asking Math questions"
   ]
  },
  {
   "attachments": {},
   "cell_type": "markdown",
   "id": "14c3a637",
   "metadata": {},
   "source": [
    "# 3 Python stores information in different formats or types"
   ]
  },
  {
   "cell_type": "code",
   "execution_count": 6,
   "id": "656fadbe-fc50-44e6-9229-af608c0881e5",
   "metadata": {},
   "outputs": [
    {
     "name": "stdout",
     "output_type": "stream",
     "text": [
      "(1.234+0j) <class 'complex'>\n"
     ]
    }
   ],
   "source": [
    "x = complex(1.234)\n",
    "print(x, type(x))"
   ]
  },
  {
   "attachments": {},
   "cell_type": "markdown",
   "id": "b67af467",
   "metadata": {},
   "source": [
    "# 4 Never compare floats directly"
   ]
  },
  {
   "attachments": {},
   "cell_type": "markdown",
   "id": "8873da0e",
   "metadata": {},
   "source": [
    "## 4.1 The Problem"
   ]
  },
  {
   "attachments": {},
   "cell_type": "markdown",
   "id": "b432da33",
   "metadata": {},
   "source": [
    "## 4.2 A solution"
   ]
  },
  {
   "attachments": {},
   "cell_type": "markdown",
   "id": "1b29d99b",
   "metadata": {},
   "source": [
    "# 5 Combining English and variables"
   ]
  },
  {
   "cell_type": "code",
   "execution_count": 11,
   "id": "a0e5303c-633e-4096-b00e-dc2616fb8dea",
   "metadata": {},
   "outputs": [
    {
     "name": "stdout",
     "output_type": "stream",
     "text": [
      "Hello BATMAN!\n"
     ]
    }
   ],
   "source": [
    "# Testing without the format string\n",
    "name = \"Batman\"\n",
    "# print(f\"Hello {name.upper()}!\")\n",
    "print(\"Hello\", name.upper() + \"!\")"
   ]
  },
  {
   "cell_type": "code",
   "execution_count": 13,
   "id": "d17d9722-f0fe-4aa7-ae15-d17978e292c9",
   "metadata": {},
   "outputs": [
    {
     "name": "stdout",
     "output_type": "stream",
     "text": [
      "    Bruce Wayne is Batman.    \n"
     ]
    }
   ],
   "source": [
    "text = 'Bruce Wayne is Batman.'\n",
    "print(f'{text:^30}')"
   ]
  },
  {
   "attachments": {},
   "cell_type": "markdown",
   "id": "175118a3",
   "metadata": {},
   "source": [
    "## 5.1 Structure of f-strings"
   ]
  },
  {
   "attachments": {},
   "cell_type": "markdown",
   "id": "dea22276",
   "metadata": {},
   "source": [
    "# 6 Escape sequences"
   ]
  },
  {
   "cell_type": "code",
   "execution_count": 14,
   "id": "a1347b3b-3da6-48b3-8c2b-592b38eb3bda",
   "metadata": {},
   "outputs": [
    {
     "name": "stdout",
     "output_type": "stream",
     "text": [
      "Line 1\n",
      "\tLine 2\n",
      "\t\tLine 3\n"
     ]
    }
   ],
   "source": [
    "print('Line 1\\n\\tLine 2\\n\\t\\tLine 3')"
   ]
  },
  {
   "attachments": {},
   "cell_type": "markdown",
   "id": "04a3bff0",
   "metadata": {},
   "source": [
    "## 6.1 Self-documenting f-strings"
   ]
  },
  {
   "attachments": {},
   "cell_type": "markdown",
   "id": "6a1761e2",
   "metadata": {},
   "source": [
    "# 7 Computers read = from Right to Left!"
   ]
  },
  {
   "attachments": {},
   "cell_type": "markdown",
   "id": "ef7df6f6",
   "metadata": {},
   "source": [
    "# 8 Shorter and Cleaner Code"
   ]
  },
  {
   "attachments": {},
   "cell_type": "markdown",
   "id": "7a1e526d",
   "metadata": {},
   "source": [
    "# 9 Python can be a prima-donna."
   ]
  },
  {
   "attachments": {},
   "cell_type": "markdown",
   "id": "ed4d3c60",
   "metadata": {},
   "source": [
    "# 10 Best Practices for Scientific Computing"
   ]
  },
  {
   "attachments": {},
   "cell_type": "markdown",
   "id": "ee3f19b6",
   "metadata": {},
   "source": [
    "# 11 Looking for help"
   ]
  },
  {
   "attachments": {},
   "cell_type": "markdown",
   "id": "2766b3cd",
   "metadata": {},
   "source": [
    "## References"
   ]
  },
  {
   "attachments": {},
   "cell_type": "markdown",
   "id": "c10030c9",
   "metadata": {},
   "source": [
    "## Footnotes"
   ]
  }
 ],
 "metadata": {
  "kernelspec": {
   "display_name": "Python 3 (ipykernel)",
   "language": "python",
   "name": "python3"
  },
  "language_info": {
   "codemirror_mode": {
    "name": "ipython",
    "version": 3
   },
   "file_extension": ".py",
   "mimetype": "text/x-python",
   "name": "python",
   "nbconvert_exporter": "python",
   "pygments_lexer": "ipython3",
   "version": "3.12.2"
  },
  "toc": {
   "base_numbering": 1,
   "nav_menu": {},
   "number_sections": true,
   "sideBar": true,
   "skip_h1_title": false,
   "title_cell": "Table of Contents",
   "title_sidebar": "Contents",
   "toc_cell": false,
   "toc_position": {},
   "toc_section_display": true,
   "toc_window_display": false
  },
  "vscode": {
   "interpreter": {
    "hash": "31f2aee4e71d21fbe5cf8b01ff0e069b9275f58929596ceb00d14d90e3e16cd6"
   }
  }
 },
 "nbformat": 4,
 "nbformat_minor": 5
}
