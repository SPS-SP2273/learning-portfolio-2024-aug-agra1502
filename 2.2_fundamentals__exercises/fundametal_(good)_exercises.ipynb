{
 "cells": [
  {
   "cell_type": "markdown",
   "id": "1540a053-364a-4e94-b693-4a08b2591acb",
   "metadata": {},
   "source": [
    "# Fundamentals (Good) Exercises"
   ]
  },
  {
   "cell_type": "markdown",
   "id": "316bf9d0-ecb6-4d1a-8afb-08d60516ecaa",
   "metadata": {},
   "source": [
    "## Exercise 1"
   ]
  },
  {
   "cell_type": "code",
   "execution_count": 3,
   "id": "a0da2688-e806-480a-9175-5a4d6303b768",
   "metadata": {},
   "outputs": [
    {
     "name": "stdin",
     "output_type": "stream",
     "text": [
      "Please provide me with a number? Yash\n"
     ]
    },
    {
     "name": "stdout",
     "output_type": "stream",
     "text": [
      "You entered Yash\n"
     ]
    }
   ],
   "source": [
    "user_input = input('Please provide me with a number?')\n",
    "print('You entered', user_input)"
   ]
  },
  {
   "cell_type": "code",
   "execution_count": 9,
   "id": "42963b3a-d386-43c9-8490-dc57742e246d",
   "metadata": {},
   "outputs": [
    {
     "name": "stdin",
     "output_type": "stream",
     "text": [
      "Please provide me with a name!  Yash\n"
     ]
    },
    {
     "name": "stdout",
     "output_type": "stream",
     "text": [
      "How you doin YASH!\n"
     ]
    }
   ],
   "source": [
    "user_input = input('Please provide me with a name! ')\n",
    "print(f'How you doin {user_input.upper()}!')"
   ]
  },
  {
   "cell_type": "code",
   "execution_count": 11,
   "id": "4332d11d-62d9-4a3d-8e70-a586711a408a",
   "metadata": {},
   "outputs": [
    {
     "name": "stdin",
     "output_type": "stream",
     "text": [
      "Please provide me with a name!  Yash\n",
      "Please provide me with a age!  20\n"
     ]
    },
    {
     "name": "stdout",
     "output_type": "stream",
     "text": [
      "My name is YASH and I am 20 years old.!\n"
     ]
    }
   ],
   "source": [
    "user_name = input('Please provide me with a name! ')\n",
    "user_age = input('Please provide me with a age! ')\n",
    "print(f'My name is {user_input.upper()} and I am {user_age} years old.!')"
   ]
  },
  {
   "cell_type": "code",
   "execution_count": 12,
   "id": "b6e27059-edfb-4edb-a2f5-29d72641af1a",
   "metadata": {},
   "outputs": [
    {
     "name": "stdout",
     "output_type": "stream",
     "text": [
      "3.14, 3.142, 3.1416\n"
     ]
    }
   ],
   "source": [
    "# The value of pi to 2 decimal places is: 3.14\n",
    "# The value of pi to 3 decimal places is: 3.142\n",
    "# The value of pi to 4 decimal places is: 3.1416\n",
    "\n",
    "pi = 3.141592653589793\n",
    "print(f'{pi:.2f}, {pi:.3f}, {pi:.4f}')"
   ]
  },
  {
   "cell_type": "code",
   "execution_count": 9,
   "id": "9bbde772-ad07-41a8-b2ad-77cf74a975f6",
   "metadata": {},
   "outputs": [
    {
     "name": "stdout",
     "output_type": "stream",
     "text": [
      "Apple      $0.99 \n",
      "Banana     $0.59 \n",
      "Orange     $1.29 \n"
     ]
    }
   ],
   "source": [
    "fruit1, price1 = \"Apple\", 0.99\n",
    "fruit2, price2 = \"Banana\", 0.59\n",
    "fruit3, price3 = \"Orange\", 1.29\n",
    "print(f'{fruit1: <10}', f'${price1: <5}')\n",
    "print(f'{fruit2: <10}', f'${price2: <5}')\n",
    "print(f'{fruit3: <10}', f'${price3: <5}')"
   ]
  }
 ],
 "metadata": {
  "kernelspec": {
   "display_name": "Python 3 (ipykernel)",
   "language": "python",
   "name": "python3"
  },
  "language_info": {
   "codemirror_mode": {
    "name": "ipython",
    "version": 3
   },
   "file_extension": ".py",
   "mimetype": "text/x-python",
   "name": "python",
   "nbconvert_exporter": "python",
   "pygments_lexer": "ipython3",
   "version": "3.12.2"
  }
 },
 "nbformat": 4,
 "nbformat_minor": 5
}
