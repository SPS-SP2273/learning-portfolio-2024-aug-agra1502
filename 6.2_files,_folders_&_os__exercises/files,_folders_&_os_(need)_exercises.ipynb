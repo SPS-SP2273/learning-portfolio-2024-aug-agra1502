{
 "cells": [
  {
   "attachments": {},
   "cell_type": "markdown",
   "id": "123456",
   "metadata": {},
   "source": [
    "<div style=\"text-align:left;font-size:2em\"><span style=\"font-weight:bolder;font-size:1.25em\">SP2273 | Learning Portfolio</span><br><br><span style=\"font-weight:bold;color:darkred\">Files, Folders & OS (Need) Exercises</span></div>"
   ]
  },
  {
   "cell_type": "code",
   "execution_count": 1,
   "id": "d7c409fe-1d1c-4700-9867-3add639b8b21",
   "metadata": {},
   "outputs": [],
   "source": [
    "import os\n",
    "import glob\n",
    "import shutil"
   ]
  },
  {
   "cell_type": "markdown",
   "id": "d0d23237-0b39-4e54-a42b-5a9f8fec6f64",
   "metadata": {},
   "source": [
    "# Exercise 1"
   ]
  },
  {
   "cell_type": "code",
   "execution_count": 15,
   "id": "ffaed071-1734-4039-93df-f420e3972176",
   "metadata": {},
   "outputs": [
    {
     "name": "stdout",
     "output_type": "stream",
     "text": [
      "10-08-singapore.txt\n"
     ]
    }
   ],
   "source": [
    "month_date = {\n",
    "'jan': '01', 'feb': '02', 'mar': '03',\n",
    "'apr': '04', 'may': '05', 'jun': '06',\n",
    "'jul': '07', 'aug': '08', 'sep': '09',\n",
    "'oct': '10', 'nov': '11', 'dec': '12'\n",
    "}\n",
    "\n",
    "old_file_name = 'oct-08_singapore.txt'\n",
    "old_file_name = old_file_name.split('-')\n",
    "new_file_name = month_date[old_file_name[0]]+'-'+old_file_name[1]\n",
    "new_file_name = new_file_name.split('_')\n",
    "new_file_name = new_file_name[0]+'-'+new_file_name[1]\n",
    "print(new_file_name)"
   ]
  },
  {
   "cell_type": "code",
   "execution_count": 18,
   "id": "43acc0dc-a4d8-447e-90b7-abfb6ace7dd0",
   "metadata": {},
   "outputs": [],
   "source": [
    "old_file_name = 'oct-08_singapore.txt'\n",
    "def rename_my_file(old_file_name):\n",
    "    old_file_name = old_file_name.split('-')\n",
    "    new_file_name = month_date[old_file_name[0]]+'-'+old_file_name[1]\n",
    "    new_file_name = new_file_name.split('_')\n",
    "    new_file_name = new_file_name[0]+'-'+new_file_name[1]\n",
    "    return new_file_name"
   ]
  },
  {
   "cell_type": "code",
   "execution_count": 20,
   "id": "df4531f7-a929-457c-98f5-8dbefa3c249b",
   "metadata": {},
   "outputs": [
    {
     "name": "stdout",
     "output_type": "stream",
     "text": [
      "oct-08_singapore.txt ----> 10-08-singapore.txt\n",
      "jul-10_cairo.txt ----> 07-10-cairo.txt\n",
      "may-15_dhaka.txt ----> 05-15-dhaka.txt\n",
      "may-13_cairo.txt ----> 05-13-cairo.txt\n",
      "oct-21_cairo.txt ----> 10-21-cairo.txt\n",
      "jan-10_singapore.txt ----> 01-10-singapore.txt\n",
      "jun-20_tokyo.txt ----> 06-20-tokyo.txt\n",
      "aug-06_jakarta.txt ----> 08-06-jakarta.txt\n",
      "dec-21_karachi.txt ----> 12-21-karachi.txt\n",
      "jan-01_tokyo.txt ----> 01-01-tokyo.txt\n"
     ]
    }
   ],
   "source": [
    "old_file_name = ['oct-08_singapore.txt', 'jul-10_cairo.txt', 'may-15_dhaka.txt',\n",
    " 'may-13_cairo.txt', 'oct-21_cairo.txt', 'jan-10_singapore.txt',\n",
    " 'jun-20_tokyo.txt', 'aug-06_jakarta.txt', 'dec-21_karachi.txt',\n",
    " 'jan-01_tokyo.txt']\n",
    "\n",
    "for name in old_file_name:\n",
    "    new_file_name = rename_my_file(name)\n",
    "    print(f'{name} ----> {new_file_name}')"
   ]
  },
  {
   "cell_type": "code",
   "execution_count": 40,
   "id": "8a24e170-1bd2-4cff-8270-abdc0563dd10",
   "metadata": {},
   "outputs": [],
   "source": [
    "all_path_names = glob.glob('os-collaboration-exercise-data/**/*.txt', recursive=True)\n",
    "for path_name in all_path_names:\n",
    "    dir_path, old_file_name = os.path.split(path_name)\n",
    "    new_file_name = rename_my_file(old_file_name)\n",
    "    new_path_name = os.path.join(dir_path, new_file_name)\n",
    "    os.rename(path_name, new_path_name)"
   ]
  },
  {
   "cell_type": "code",
   "execution_count": 45,
   "id": "7d787874-5571-4f35-b058-4f57e4bb6384",
   "metadata": {},
   "outputs": [
    {
     "ename": "FileExistsError",
     "evalue": "[Errno 17] File exists: 'os-collaboration-exercise-data/Cairo'",
     "output_type": "error",
     "traceback": [
      "\u001b[0;31m---------------------------------------------------------------------------\u001b[0m",
      "\u001b[0;31mFileExistsError\u001b[0m                           Traceback (most recent call last)",
      "Cell \u001b[0;32mIn[45], line 5\u001b[0m\n\u001b[1;32m      3\u001b[0m \u001b[38;5;28;01mfor\u001b[39;00m city \u001b[38;5;129;01min\u001b[39;00m cities:\n\u001b[1;32m      4\u001b[0m     path_to_cities \u001b[38;5;241m=\u001b[39m os\u001b[38;5;241m.\u001b[39mpath\u001b[38;5;241m.\u001b[39mjoin(\u001b[38;5;124m'\u001b[39m\u001b[38;5;124mos-collaboration-exercise-data\u001b[39m\u001b[38;5;124m'\u001b[39m, city)\n\u001b[0;32m----> 5\u001b[0m     \u001b[43mos\u001b[49m\u001b[38;5;241;43m.\u001b[39;49m\u001b[43mmkdir\u001b[49m\u001b[43m(\u001b[49m\u001b[43mpath_to_cities\u001b[49m\u001b[43m)\u001b[49m\n",
      "\u001b[0;31mFileExistsError\u001b[0m: [Errno 17] File exists: 'os-collaboration-exercise-data/Cairo'"
     ]
    }
   ],
   "source": [
    "cities = ['Cairo', 'Dhaka', 'Jakarta', 'Karachi', 'Manila',\n",
    " 'Melbourne', 'Osaka', 'Shanghai', 'Singapore', 'Tokyo']\n",
    "for city in cities:\n",
    "    path_to_cities = os.path.join('os-collaboration-exercise-data', city)\n",
    "    os.mkdir(path_to_cities)\n",
    "\n",
    "# the code shows an error because I ran it after I made the directory"
   ]
  },
  {
   "cell_type": "code",
   "execution_count": 48,
   "id": "c03d608a-eb71-4305-ae8b-6320554966bb",
   "metadata": {},
   "outputs": [
    {
     "data": {
      "text/plain": [
       "['os-collaboration-exercise-data/09-18-cairo.txt',\n",
       " 'os-collaboration-exercise-data/04-06-cairo.txt',\n",
       " 'os-collaboration-exercise-data/03-06-cairo.txt',\n",
       " 'os-collaboration-exercise-data/01-03-cairo.txt',\n",
       " 'os-collaboration-exercise-data/03-12-cairo.txt',\n",
       " 'os-collaboration-exercise-data/04-12-cairo.txt',\n",
       " 'os-collaboration-exercise-data/12-05-cairo.txt',\n",
       " 'os-collaboration-exercise-data/07-30-cairo.txt',\n",
       " 'os-collaboration-exercise-data/07-24-cairo.txt',\n",
       " 'os-collaboration-exercise-data/07-08-cairo.txt',\n",
       " 'os-collaboration-exercise-data/12-29-cairo.txt',\n",
       " 'os-collaboration-exercise-data/08-07-cairo.txt',\n",
       " 'os-collaboration-exercise-data/09-20-cairo.txt',\n",
       " 'os-collaboration-exercise-data/08-26-cairo.txt',\n",
       " 'os-collaboration-exercise-data/07-29-cairo.txt',\n",
       " 'os-collaboration-exercise-data/12-03-cairo.txt',\n",
       " 'os-collaboration-exercise-data/01-30-cairo.txt',\n",
       " 'os-collaboration-exercise-data/12-17-cairo.txt',\n",
       " 'os-collaboration-exercise-data/05-27-cairo.txt',\n",
       " 'os-collaboration-exercise-data/11-14-cairo.txt',\n",
       " 'os-collaboration-exercise-data/04-21-cairo.txt',\n",
       " 'os-collaboration-exercise-data/01-05-cairo.txt',\n",
       " 'os-collaboration-exercise-data/08-18-cairo.txt',\n",
       " 'os-collaboration-exercise-data/04-14-cairo.txt',\n",
       " 'os-collaboration-exercise-data/11-21-cairo.txt',\n",
       " 'os-collaboration-exercise-data/12-22-cairo.txt',\n",
       " 'os-collaboration-exercise-data/07-17-cairo.txt',\n",
       " 'os-collaboration-exercise-data/05-12-cairo.txt',\n",
       " 'os-collaboration-exercise-data/03-14-cairo.txt',\n",
       " 'os-collaboration-exercise-data/01-11-cairo.txt',\n",
       " 'os-collaboration-exercise-data/09-26-cairo.txt',\n",
       " 'os-collaboration-exercise-data/08-20-cairo.txt',\n",
       " 'os-collaboration-exercise-data/11-19-cairo.txt',\n",
       " 'os-collaboration-exercise-data/01-08-cairo.txt',\n",
       " 'os-collaboration-exercise-data/09-13-cairo.txt',\n",
       " 'os-collaboration-exercise-data/09-07-cairo.txt',\n",
       " 'os-collaboration-exercise-data/08-01-cairo.txt',\n",
       " 'os-collaboration-exercise-data/03-19-cairo.txt',\n",
       " 'os-collaboration-exercise-data/01-16-cairo.txt',\n",
       " 'os-collaboration-exercise-data/04-13-cairo.txt',\n",
       " 'os-collaboration-exercise-data/07-10-cairo.txt',\n",
       " 'os-collaboration-exercise-data/07-04-cairo.txt',\n",
       " 'os-collaboration-exercise-data/05-01-cairo.txt',\n",
       " 'os-collaboration-exercise-data/04-07-cairo.txt',\n",
       " 'os-collaboration-exercise-data/01-02-cairo.txt',\n",
       " 'os-collaboration-exercise-data/12-10-cairo.txt',\n",
       " 'os-collaboration-exercise-data/02-20-cairo.txt',\n",
       " 'os-collaboration-exercise-data/01-23-cairo.txt',\n",
       " 'os-collaboration-exercise-data/12-04-cairo.txt',\n",
       " 'os-collaboration-exercise-data/08-12-cairo.txt',\n",
       " 'os-collaboration-exercise-data/12-09-cairo.txt',\n",
       " 'os-collaboration-exercise-data/02-26-cairo.txt',\n",
       " 'os-collaboration-exercise-data/04-20-cairo.txt',\n",
       " 'os-collaboration-exercise-data/04-15-cairo.txt',\n",
       " 'os-collaboration-exercise-data/07-16-cairo.txt',\n",
       " 'os-collaboration-exercise-data/12-23-cairo.txt',\n",
       " 'os-collaboration-exercise-data/01-04-cairo.txt',\n",
       " 'os-collaboration-exercise-data/08-19-cairo.txt',\n",
       " 'os-collaboration-exercise-data/06-28-cairo.txt',\n",
       " 'os-collaboration-exercise-data/01-09-cairo.txt',\n",
       " 'os-collaboration-exercise-data/08-14-cairo.txt',\n",
       " 'os-collaboration-exercise-data/09-12-cairo.txt',\n",
       " 'os-collaboration-exercise-data/12-07-cairo.txt',\n",
       " 'os-collaboration-exercise-data/11-04-cairo.txt',\n",
       " 'os-collaboration-exercise-data/11-10-cairo.txt',\n",
       " 'os-collaboration-exercise-data/12-13-cairo.txt',\n",
       " 'os-collaboration-exercise-data/07-26-cairo.txt',\n",
       " 'os-collaboration-exercise-data/01-20-cairo.txt',\n",
       " 'os-collaboration-exercise-data/05-02-cairo.txt',\n",
       " 'os-collaboration-exercise-data/01-15-cairo.txt',\n",
       " 'os-collaboration-exercise-data/07-13-cairo.txt',\n",
       " 'os-collaboration-exercise-data/12-26-cairo.txt',\n",
       " 'os-collaboration-exercise-data/10-23-cairo.txt',\n",
       " 'os-collaboration-exercise-data/08-08-cairo.txt',\n",
       " 'os-collaboration-exercise-data/04-10-cairo.txt',\n",
       " 'os-collaboration-exercise-data/08-24-cairo.txt',\n",
       " 'os-collaboration-exercise-data/09-22-cairo.txt',\n",
       " 'os-collaboration-exercise-data/08-05-cairo.txt',\n",
       " 'os-collaboration-exercise-data/01-07-cairo.txt',\n",
       " 'os-collaboration-exercise-data/04-02-cairo.txt',\n",
       " 'os-collaboration-exercise-data/09-08-cairo.txt',\n",
       " 'os-collaboration-exercise-data/07-15-cairo.txt',\n",
       " 'os-collaboration-exercise-data/02-10-cairo.txt',\n",
       " 'os-collaboration-exercise-data/01-13-cairo.txt',\n",
       " 'os-collaboration-exercise-data/12-01-cairo.txt',\n",
       " 'os-collaboration-exercise-data/02-25-cairo.txt',\n",
       " 'os-collaboration-exercise-data/04-23-cairo.txt',\n",
       " 'os-collaboration-exercise-data/05-25-cairo.txt',\n",
       " 'os-collaboration-exercise-data/09-11-cairo.txt',\n",
       " 'os-collaboration-exercise-data/08-03-cairo.txt',\n",
       " 'os-collaboration-exercise-data/09-05-cairo.txt',\n",
       " 'os-collaboration-exercise-data/09-24-cairo.txt',\n",
       " 'os-collaboration-exercise-data/12-18-cairo.txt',\n",
       " 'os-collaboration-exercise-data/04-24-cairo.txt',\n",
       " 'os-collaboration-exercise-data/07-27-cairo.txt',\n",
       " 'os-collaboration-exercise-data/03-24-cairo.txt',\n",
       " 'os-collaboration-exercise-data/01-21-cairo.txt',\n",
       " 'os-collaboration-exercise-data/02-22-cairo.txt',\n",
       " 'os-collaboration-exercise-data/11-05-cairo.txt',\n",
       " 'os-collaboration-exercise-data/02-17-cairo.txt',\n",
       " 'os-collaboration-exercise-data/12-27-cairo.txt',\n",
       " 'os-collaboration-exercise-data/05-17-cairo.txt',\n",
       " 'os-collaboration-exercise-data/03-05-cairo.txt',\n",
       " 'os-collaboration-exercise-data/08-25-cairo.txt',\n",
       " 'os-collaboration-exercise-data/09-23-cairo.txt',\n",
       " 'os-collaboration-exercise-data/01-19-cairo.txt',\n",
       " 'os-collaboration-exercise-data/11-29-cairo.txt',\n",
       " 'os-collaboration-exercise-data/08-04-cairo.txt',\n",
       " 'os-collaboration-exercise-data/09-02-cairo.txt',\n",
       " 'os-collaboration-exercise-data/09-16-cairo.txt',\n",
       " 'os-collaboration-exercise-data/08-10-cairo.txt',\n",
       " 'os-collaboration-exercise-data/07-14-cairo.txt',\n",
       " 'os-collaboration-exercise-data/12-21-cairo.txt',\n",
       " 'os-collaboration-exercise-data/04-17-cairo.txt',\n",
       " 'os-collaboration-exercise-data/01-12-cairo.txt',\n",
       " 'os-collaboration-exercise-data/01-27-cairo.txt',\n",
       " 'os-collaboration-exercise-data/04-22-cairo.txt',\n",
       " 'os-collaboration-exercise-data/11-17-cairo.txt',\n",
       " 'os-collaboration-exercise-data/09-28-cairo.txt',\n",
       " 'os-collaboration-exercise-data/05-30-cairo.txt',\n",
       " 'os-collaboration-exercise-data/11-03-cairo.txt',\n",
       " 'os-collaboration-exercise-data/07-19-cairo.txt',\n",
       " 'os-collaboration-exercise-data/09-04-cairo.txt',\n",
       " 'os-collaboration-exercise-data/12-19-cairo.txt',\n",
       " 'os-collaboration-exercise-data/05-29-cairo.txt',\n",
       " 'os-collaboration-exercise-data/09-25-cairo.txt']"
      ]
     },
     "execution_count": 48,
     "metadata": {},
     "output_type": "execute_result"
    }
   ],
   "source": [
    "glob.glob('os-collaboration-exercise-data/**/*cairo.txt', recursive=True)"
   ]
  },
  {
   "cell_type": "code",
   "execution_count": 83,
   "id": "5d6d8af5-eb8d-4854-9be4-326a0a53faa6",
   "metadata": {},
   "outputs": [
    {
     "ename": "Error",
     "evalue": "Destination path './os-collaboration-exercise-data/Cairo/09-18-cairo.txt' already exists",
     "output_type": "error",
     "traceback": [
      "\u001b[0;31m---------------------------------------------------------------------------\u001b[0m",
      "\u001b[0;31mError\u001b[0m                                     Traceback (most recent call last)",
      "Cell \u001b[0;32mIn[83], line 5\u001b[0m\n\u001b[1;32m      3\u001b[0m     dir_path, file_name \u001b[38;5;241m=\u001b[39m os\u001b[38;5;241m.\u001b[39mpath\u001b[38;5;241m.\u001b[39msplit(path_name)\n\u001b[1;32m      4\u001b[0m     path_to_destination \u001b[38;5;241m=\u001b[39m os\u001b[38;5;241m.\u001b[39mpath\u001b[38;5;241m.\u001b[39mjoin(\u001b[38;5;124m'\u001b[39m\u001b[38;5;124m.\u001b[39m\u001b[38;5;124m'\u001b[39m,\u001b[38;5;124m'\u001b[39m\u001b[38;5;124mos-collaboration-exercise-data\u001b[39m\u001b[38;5;124m'\u001b[39m,\u001b[38;5;124m'\u001b[39m\u001b[38;5;124mCairo\u001b[39m\u001b[38;5;124m'\u001b[39m)\n\u001b[0;32m----> 5\u001b[0m     \u001b[43mshutil\u001b[49m\u001b[38;5;241;43m.\u001b[39;49m\u001b[43mmove\u001b[49m\u001b[43m(\u001b[49m\u001b[43mpath_name\u001b[49m\u001b[43m,\u001b[49m\u001b[43m \u001b[49m\u001b[43mpath_to_destination\u001b[49m\u001b[43m)\u001b[49m\n\u001b[1;32m      6\u001b[0m \u001b[38;5;66;03m# The code shows an incorrect output because I ran it after moving the txt files\u001b[39;00m\n",
      "File \u001b[0;32m~/miniconda3/lib/python3.12/shutil.py:884\u001b[0m, in \u001b[0;36mmove\u001b[0;34m(src, dst, copy_function)\u001b[0m\n\u001b[1;32m    881\u001b[0m     real_dst \u001b[38;5;241m=\u001b[39m os\u001b[38;5;241m.\u001b[39mpath\u001b[38;5;241m.\u001b[39mjoin(dst, _basename(src))\n\u001b[1;32m    883\u001b[0m     \u001b[38;5;28;01mif\u001b[39;00m os\u001b[38;5;241m.\u001b[39mpath\u001b[38;5;241m.\u001b[39mexists(real_dst):\n\u001b[0;32m--> 884\u001b[0m         \u001b[38;5;28;01mraise\u001b[39;00m Error(\u001b[38;5;124m\"\u001b[39m\u001b[38;5;124mDestination path \u001b[39m\u001b[38;5;124m'\u001b[39m\u001b[38;5;132;01m%s\u001b[39;00m\u001b[38;5;124m'\u001b[39m\u001b[38;5;124m already exists\u001b[39m\u001b[38;5;124m\"\u001b[39m \u001b[38;5;241m%\u001b[39m real_dst)\n\u001b[1;32m    885\u001b[0m \u001b[38;5;28;01mtry\u001b[39;00m:\n\u001b[1;32m    886\u001b[0m     os\u001b[38;5;241m.\u001b[39mrename(src, real_dst)\n",
      "\u001b[0;31mError\u001b[0m: Destination path './os-collaboration-exercise-data/Cairo/09-18-cairo.txt' already exists"
     ]
    }
   ],
   "source": [
    "path = glob.glob('os-collaboration-exercise-data/**/*cairo.txt', recursive=True)\n",
    "for path_name in path:\n",
    "    dir_path, file_name = os.path.split(path_name)\n",
    "    path_to_destination = os.path.join('.','os-collaboration-exercise-data','Cairo')\n",
    "    shutil.move(path_name, path_to_destination)\n",
    "\n",
    "# The code shows an error because I ran it after moving the txt files"
   ]
  },
  {
   "cell_type": "code",
   "execution_count": 85,
   "id": "afa603ee-d101-4765-91da-cc4230964547",
   "metadata": {},
   "outputs": [],
   "source": []
  }
 ],
 "metadata": {
  "kernelspec": {
   "display_name": "Python 3 (ipykernel)",
   "language": "python",
   "name": "python3"
  },
  "language_info": {
   "codemirror_mode": {
    "name": "ipython",
    "version": 3
   },
   "file_extension": ".py",
   "mimetype": "text/x-python",
   "name": "python",
   "nbconvert_exporter": "python",
   "pygments_lexer": "ipython3",
   "version": "3.12.2"
  },
  "toc": {
   "base_numbering": 1,
   "nav_menu": {},
   "number_sections": true,
   "sideBar": true,
   "skip_h1_title": false,
   "title_cell": "Table of Contents",
   "title_sidebar": "Contents",
   "toc_cell": false,
   "toc_position": {},
   "toc_section_display": true,
   "toc_window_display": false
  },
  "vscode": {
   "interpreter": {
    "hash": "31f2aee4e71d21fbe5cf8b01ff0e069b9275f58929596ceb00d14d90e3e16cd6"
   }
  }
 },
 "nbformat": 4,
 "nbformat_minor": 5
}
