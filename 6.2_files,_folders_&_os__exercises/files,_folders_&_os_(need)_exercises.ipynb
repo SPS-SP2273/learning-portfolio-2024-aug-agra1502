{
 "cells": [
  {
   "attachments": {},
   "cell_type": "markdown",
   "id": "123456",
   "metadata": {},
   "source": [
    "<div style=\"text-align:left;font-size:2em\"><span style=\"font-weight:bolder;font-size:1.25em\">SP2273 | Learning Portfolio</span><br><br><span style=\"font-weight:bold;color:darkred\">Files, Folders & OS (Need) Exercises</span></div>"
   ]
  },
  {
   "cell_type": "code",
   "execution_count": 2,
   "id": "d7c409fe-1d1c-4700-9867-3add639b8b21",
   "metadata": {},
   "outputs": [],
   "source": [
    "import os\n",
    "import glob\n",
    "import shutil"
   ]
  },
  {
   "cell_type": "markdown",
   "id": "d0d23237-0b39-4e54-a42b-5a9f8fec6f64",
   "metadata": {},
   "source": [
    "## Exercise 1"
   ]
  },
  {
   "cell_type": "code",
   "execution_count": 15,
   "id": "ffaed071-1734-4039-93df-f420e3972176",
   "metadata": {},
   "outputs": [
    {
     "name": "stdout",
     "output_type": "stream",
     "text": [
      "10-08-singapore.txt\n"
     ]
    }
   ],
   "source": [
    "month_date = {\n",
    "'jan': '01', 'feb': '02', 'mar': '03',\n",
    "'apr': '04', 'may': '05', 'jun': '06',\n",
    "'jul': '07', 'aug': '08', 'sep': '09',\n",
    "'oct': '10', 'nov': '11', 'dec': '12'\n",
    "}\n",
    "\n",
    "old_file_name = 'oct-08_singapore.txt'\n",
    "old_file_name = old_file_name.split('-')\n",
    "new_file_name = month_date[old_file_name[0]]+'-'+old_file_name[1]\n",
    "new_file_name = new_file_name.split('_')\n",
    "new_file_name = new_file_name[0]+'-'+new_file_name[1]\n",
    "print(new_file_name)"
   ]
  },
  {
   "cell_type": "markdown",
   "id": "8c15534f-d9ed-4c3f-ae5c-82c802231fde",
   "metadata": {},
   "source": [
    "## Exercise 2"
   ]
  },
  {
   "cell_type": "code",
   "execution_count": 18,
   "id": "43acc0dc-a4d8-447e-90b7-abfb6ace7dd0",
   "metadata": {},
   "outputs": [],
   "source": [
    "old_file_name = 'oct-08_singapore.txt'\n",
    "def rename_my_file(old_file_name):\n",
    "    old_file_name = old_file_name.split('-')\n",
    "    new_file_name = month_date[old_file_name[0]]+'-'+old_file_name[1]\n",
    "    new_file_name = new_file_name.split('_')\n",
    "    new_file_name = new_file_name[0]+'-'+new_file_name[1]\n",
    "    return new_file_name"
   ]
  },
  {
   "cell_type": "markdown",
   "id": "e671e6e7-438a-4235-b844-9313ddd9fbb9",
   "metadata": {},
   "source": [
    "## Exercise 3"
   ]
  },
  {
   "cell_type": "code",
   "execution_count": 20,
   "id": "df4531f7-a929-457c-98f5-8dbefa3c249b",
   "metadata": {},
   "outputs": [
    {
     "name": "stdout",
     "output_type": "stream",
     "text": [
      "oct-08_singapore.txt ----> 10-08-singapore.txt\n",
      "jul-10_cairo.txt ----> 07-10-cairo.txt\n",
      "may-15_dhaka.txt ----> 05-15-dhaka.txt\n",
      "may-13_cairo.txt ----> 05-13-cairo.txt\n",
      "oct-21_cairo.txt ----> 10-21-cairo.txt\n",
      "jan-10_singapore.txt ----> 01-10-singapore.txt\n",
      "jun-20_tokyo.txt ----> 06-20-tokyo.txt\n",
      "aug-06_jakarta.txt ----> 08-06-jakarta.txt\n",
      "dec-21_karachi.txt ----> 12-21-karachi.txt\n",
      "jan-01_tokyo.txt ----> 01-01-tokyo.txt\n"
     ]
    }
   ],
   "source": [
    "old_file_name = ['oct-08_singapore.txt', 'jul-10_cairo.txt', 'may-15_dhaka.txt',\n",
    " 'may-13_cairo.txt', 'oct-21_cairo.txt', 'jan-10_singapore.txt',\n",
    " 'jun-20_tokyo.txt', 'aug-06_jakarta.txt', 'dec-21_karachi.txt',\n",
    " 'jan-01_tokyo.txt']\n",
    "\n",
    "for name in old_file_name:\n",
    "    new_file_name = rename_my_file(name)\n",
    "    print(f'{name} ----> {new_file_name}')"
   ]
  },
  {
   "cell_type": "markdown",
   "id": "3cb5c90b-877b-4642-8ccb-ab2e2ad5f87f",
   "metadata": {},
   "source": [
    "## Exercise 4"
   ]
  },
  {
   "cell_type": "code",
   "execution_count": 40,
   "id": "8a24e170-1bd2-4cff-8270-abdc0563dd10",
   "metadata": {},
   "outputs": [],
   "source": [
    "all_path_names = glob.glob('os-collaboration-exercise-data/**/*.txt', recursive=True)\n",
    "for path_name in all_path_names:\n",
    "    dir_path, old_file_name = os.path.split(path_name)\n",
    "    new_file_name = rename_my_file(old_file_name)\n",
    "    new_path_name = os.path.join(dir_path, new_file_name)\n",
    "    os.rename(path_name, new_path_name)"
   ]
  },
  {
   "cell_type": "markdown",
   "id": "5e253a7d-5251-4c83-9e4b-070e02007239",
   "metadata": {},
   "source": [
    "## Exercise 5"
   ]
  },
  {
   "cell_type": "code",
   "execution_count": 45,
   "id": "7d787874-5571-4f35-b058-4f57e4bb6384",
   "metadata": {},
   "outputs": [
    {
     "ename": "FileExistsError",
     "evalue": "[Errno 17] File exists: 'os-collaboration-exercise-data/Cairo'",
     "output_type": "error",
     "traceback": [
      "\u001b[0;31m---------------------------------------------------------------------------\u001b[0m",
      "\u001b[0;31mFileExistsError\u001b[0m                           Traceback (most recent call last)",
      "Cell \u001b[0;32mIn[45], line 5\u001b[0m\n\u001b[1;32m      3\u001b[0m \u001b[38;5;28;01mfor\u001b[39;00m city \u001b[38;5;129;01min\u001b[39;00m cities:\n\u001b[1;32m      4\u001b[0m     path_to_cities \u001b[38;5;241m=\u001b[39m os\u001b[38;5;241m.\u001b[39mpath\u001b[38;5;241m.\u001b[39mjoin(\u001b[38;5;124m'\u001b[39m\u001b[38;5;124mos-collaboration-exercise-data\u001b[39m\u001b[38;5;124m'\u001b[39m, city)\n\u001b[0;32m----> 5\u001b[0m     \u001b[43mos\u001b[49m\u001b[38;5;241;43m.\u001b[39;49m\u001b[43mmkdir\u001b[49m\u001b[43m(\u001b[49m\u001b[43mpath_to_cities\u001b[49m\u001b[43m)\u001b[49m\n",
      "\u001b[0;31mFileExistsError\u001b[0m: [Errno 17] File exists: 'os-collaboration-exercise-data/Cairo'"
     ]
    }
   ],
   "source": [
    "cities = ['Cairo', 'Dhaka', 'Jakarta', 'Karachi', 'Manila',\n",
    " 'Melbourne', 'Osaka', 'Shanghai', 'Singapore', 'Tokyo']\n",
    "for city in cities:\n",
    "    path_to_cities = os.path.join('os-collaboration-exercise-data', city)\n",
    "    os.mkdir(path_to_cities)\n",
    "\n",
    "# the code shows an error because I ran it after I made the directory"
   ]
  },
  {
   "cell_type": "markdown",
   "id": "0278518b-82fb-47c1-8363-90c418cefd9b",
   "metadata": {},
   "source": [
    "## Exercise 6"
   ]
  },
  {
   "cell_type": "code",
   "execution_count": 4,
   "id": "c03d608a-eb71-4305-ae8b-6320554966bb",
   "metadata": {},
   "outputs": [
    {
     "data": {
      "text/plain": [
       "['os-collaboration-exercise-data/sep-23_cairo.pdf',\n",
       " 'os-collaboration-exercise-data/jan-12_cairo.pdf',\n",
       " 'os-collaboration-exercise-data/mar-05_cairo.pdf',\n",
       " 'os-collaboration-exercise-data/may-25_cairo.png',\n",
       " 'os-collaboration-exercise-data/jul-27_cairo.png',\n",
       " 'os-collaboration-exercise-data/dec-07_cairo.jpg',\n",
       " 'os-collaboration-exercise-data/mar-24_cairo.pdf',\n",
       " 'os-collaboration-exercise-data/sep-16_cairo.png',\n",
       " 'os-collaboration-exercise-data/jan-27_cairo.jpg',\n",
       " 'os-collaboration-exercise-data/sep-02_cairo.png',\n",
       " 'os-collaboration-exercise-data/dec-13_cairo.pdf',\n",
       " 'os-collaboration-exercise-data/nov-14_cairo.pdf',\n",
       " 'os-collaboration-exercise-data/aug-12_cairo.jpg',\n",
       " 'os-collaboration-exercise-data/apr-10_cairo.png',\n",
       " 'os-collaboration-exercise-data/dec-26_cairo.pdf',\n",
       " 'os-collaboration-exercise-data/nov-19_cairo.jpg',\n",
       " 'os-collaboration-exercise-data/nov-21_cairo.pdf',\n",
       " 'os-collaboration-exercise-data/mar-05_cairo.png',\n",
       " 'os-collaboration-exercise-data/sep-28_cairo.jpg',\n",
       " 'os-collaboration-exercise-data/may-02_cairo.png',\n",
       " 'os-collaboration-exercise-data/sep-28_cairo.png',\n",
       " 'os-collaboration-exercise-data/dec-01_cairo.jpg',\n",
       " 'os-collaboration-exercise-data/jul-14_cairo.jpg',\n",
       " 'os-collaboration-exercise-data/aug-19_cairo.jpg',\n",
       " 'os-collaboration-exercise-data/sep-04_cairo.pdf',\n",
       " 'os-collaboration-exercise-data/sep-25_cairo.pdf',\n",
       " 'os-collaboration-exercise-data/apr-02_cairo.jpg',\n",
       " 'os-collaboration-exercise-data/sep-25_cairo.jpg',\n",
       " 'os-collaboration-exercise-data/jul-19_cairo.jpg',\n",
       " 'os-collaboration-exercise-data/aug-14_cairo.png',\n",
       " 'os-collaboration-exercise-data/dec-18_cairo.jpg',\n",
       " 'os-collaboration-exercise-data/aug-14_cairo.jpg',\n",
       " 'os-collaboration-exercise-data/sep-28_cairo.pdf',\n",
       " 'os-collaboration-exercise-data/apr-23_cairo.jpg',\n",
       " 'os-collaboration-exercise-data/jan-21_cairo.jpg',\n",
       " 'os-collaboration-exercise-data/jan-19_cairo.pdf',\n",
       " 'os-collaboration-exercise-data/dec-27_cairo.png',\n",
       " 'os-collaboration-exercise-data/jul-26_cairo.png',\n",
       " 'os-collaboration-exercise-data/may-30_cairo.png',\n",
       " 'os-collaboration-exercise-data/sep-22_cairo.pdf',\n",
       " 'os-collaboration-exercise-data/may-30_cairo.jpg',\n",
       " 'os-collaboration-exercise-data/jul-13_cairo.png',\n",
       " 'os-collaboration-exercise-data/may-29_cairo.pdf',\n",
       " 'os-collaboration-exercise-data/aug-26_cairo.png',\n",
       " 'os-collaboration-exercise-data/apr-24_cairo.jpg',\n",
       " 'os-collaboration-exercise-data/jan-13_cairo.png',\n",
       " 'os-collaboration-exercise-data/feb-26_cairo.png',\n",
       " 'os-collaboration-exercise-data/aug-07_cairo.png',\n",
       " 'os-collaboration-exercise-data/jan-07_cairo.jpg',\n",
       " 'os-collaboration-exercise-data/jan-20_cairo.pdf',\n",
       " 'os-collaboration-exercise-data/jun-28_cairo.pdf',\n",
       " 'os-collaboration-exercise-data/apr-22_cairo.pdf',\n",
       " 'os-collaboration-exercise-data/may-17_cairo.png',\n",
       " 'os-collaboration-exercise-data/aug-18_cairo.jpg',\n",
       " 'os-collaboration-exercise-data/sep-05_cairo.pdf',\n",
       " 'os-collaboration-exercise-data/dec-21_cairo.png',\n",
       " 'os-collaboration-exercise-data/apr-17_cairo.pdf',\n",
       " 'os-collaboration-exercise-data/dec-19_cairo.pdf',\n",
       " 'os-collaboration-exercise-data/sep-24_cairo.pdf',\n",
       " 'os-collaboration-exercise-data/apr-17_cairo.png',\n",
       " 'os-collaboration-exercise-data/feb-20_cairo.png',\n",
       " 'os-collaboration-exercise-data/jan-15_cairo.jpg',\n",
       " 'os-collaboration-exercise-data/sep-08_cairo.pdf',\n",
       " 'os-collaboration-exercise-data/jan-15_cairo.png',\n",
       " 'os-collaboration-exercise-data/apr-17_cairo.jpg',\n",
       " 'os-collaboration-exercise-data/aug-01_cairo.jpg',\n",
       " 'os-collaboration-exercise-data/aug-01_cairo.png',\n",
       " 'os-collaboration-exercise-data/aug-20_cairo.png',\n",
       " 'os-collaboration-exercise-data/jul-15_cairo.pdf',\n",
       " 'os-collaboration-exercise-data/sep-11_cairo.png',\n",
       " 'os-collaboration-exercise-data/jan-09_cairo.jpg',\n",
       " 'os-collaboration-exercise-data/jul-04_cairo.jpg',\n",
       " 'os-collaboration-exercise-data/dec-05_cairo.png',\n",
       " 'os-collaboration-exercise-data/feb-10_cairo.pdf',\n",
       " 'os-collaboration-exercise-data/jul-10_cairo.png',\n",
       " 'os-collaboration-exercise-data/may-12_cairo.png',\n",
       " 'os-collaboration-exercise-data/aug-04_cairo.pdf',\n",
       " 'os-collaboration-exercise-data/apr-12_cairo.pdf',\n",
       " 'os-collaboration-exercise-data/feb-25_cairo.pdf',\n",
       " 'os-collaboration-exercise-data/apr-06_cairo.png',\n",
       " 'os-collaboration-exercise-data/jan-04_cairo.jpg',\n",
       " 'os-collaboration-exercise-data/aug-04_cairo.jpg',\n",
       " 'os-collaboration-exercise-data/feb-25_cairo.jpg',\n",
       " 'os-collaboration-exercise-data/aug-10_cairo.png',\n",
       " 'os-collaboration-exercise-data/may-27_cairo.pdf',\n",
       " 'os-collaboration-exercise-data/apr-12_cairo.png',\n",
       " 'os-collaboration-exercise-data/aug-25_cairo.png',\n",
       " 'os-collaboration-exercise-data/dec-29_cairo.jpg',\n",
       " 'os-collaboration-exercise-data/dec-29_cairo.png',\n",
       " 'os-collaboration-exercise-data/feb-10_cairo.jpg',\n",
       " 'os-collaboration-exercise-data/jan-02_cairo.pdf',\n",
       " 'os-collaboration-exercise-data/dec-22_cairo.jpg',\n",
       " 'os-collaboration-exercise-data/dec-03_cairo.png',\n",
       " 'os-collaboration-exercise-data/dec-03_cairo.jpg',\n",
       " 'os-collaboration-exercise-data/dec-17_cairo.png',\n",
       " 'os-collaboration-exercise-data/apr-21_cairo.pdf',\n",
       " 'os-collaboration-exercise-data/jul-16_cairo.png',\n",
       " 'os-collaboration-exercise-data/sep-12_cairo.png',\n",
       " 'os-collaboration-exercise-data/nov-04_cairo.pdf',\n",
       " 'os-collaboration-exercise-data/jan-23_cairo.png',\n",
       " 'os-collaboration-exercise-data/nov-10_cairo.pdf',\n",
       " 'os-collaboration-exercise-data/apr-14_cairo.png',\n",
       " 'os-collaboration-exercise-data/apr-14_cairo.jpg',\n",
       " 'os-collaboration-exercise-data/jan-16_cairo.png',\n",
       " 'os-collaboration-exercise-data/aug-24_cairo.pdf',\n",
       " 'os-collaboration-exercise-data/dec-10_cairo.jpg',\n",
       " 'os-collaboration-exercise-data/jan-30_cairo.pdf',\n",
       " 'os-collaboration-exercise-data/dec-04_cairo.jpg',\n",
       " 'os-collaboration-exercise-data/aug-08_cairo.jpg',\n",
       " 'os-collaboration-exercise-data/jan-08_cairo.png',\n",
       " 'os-collaboration-exercise-data/dec-04_cairo.png',\n",
       " 'os-collaboration-exercise-data/nov-03_cairo.png',\n",
       " 'os-collaboration-exercise-data/mar-06_cairo.pdf',\n",
       " 'os-collaboration-exercise-data/aug-05_cairo.pdf',\n",
       " 'os-collaboration-exercise-data/jul-30_cairo.png',\n",
       " 'os-collaboration-exercise-data/jan-11_cairo.png',\n",
       " 'os-collaboration-exercise-data/jul-24_cairo.pdf',\n",
       " 'os-collaboration-exercise-data/apr-13_cairo.png',\n",
       " 'os-collaboration-exercise-data/apr-07_cairo.png',\n",
       " 'os-collaboration-exercise-data/jan-05_cairo.jpg',\n",
       " 'os-collaboration-exercise-data/dec-09_cairo.png',\n",
       " 'os-collaboration-exercise-data/sep-20_cairo.jpg',\n",
       " 'os-collaboration-exercise-data/mar-12_cairo.jpg',\n",
       " 'os-collaboration-exercise-data/sep-18_cairo.pdf',\n",
       " 'os-collaboration-exercise-data/jul-08_cairo.png',\n",
       " 'os-collaboration-exercise-data/jul-29_cairo.jpg',\n",
       " 'os-collaboration-exercise-data/dec-10_cairo.pdf',\n",
       " 'os-collaboration-exercise-data/nov-17_cairo.pdf',\n",
       " 'os-collaboration-exercise-data/dec-04_cairo.pdf',\n",
       " 'os-collaboration-exercise-data/feb-22_cairo.pdf',\n",
       " 'os-collaboration-exercise-data/jan-03_cairo.pdf',\n",
       " 'os-collaboration-exercise-data/sep-26_cairo.pdf',\n",
       " 'os-collaboration-exercise-data/mar-14_cairo.pdf',\n",
       " 'os-collaboration-exercise-data/nov-29_cairo.pdf',\n",
       " 'os-collaboration-exercise-data/may-01_cairo.png',\n",
       " 'os-collaboration-exercise-data/nov-05_cairo.png',\n",
       " 'os-collaboration-exercise-data/mar-19_cairo.jpg',\n",
       " 'os-collaboration-exercise-data/nov-05_cairo.jpg',\n",
       " 'os-collaboration-exercise-data/sep-07_cairo.jpg',\n",
       " 'os-collaboration-exercise-data/feb-17_cairo.jpg',\n",
       " 'os-collaboration-exercise-data/apr-20_cairo.jpg',\n",
       " 'os-collaboration-exercise-data/jul-17_cairo.pdf',\n",
       " 'os-collaboration-exercise-data/sep-13_cairo.png',\n",
       " 'os-collaboration-exercise-data/sep-13_cairo.jpg',\n",
       " 'os-collaboration-exercise-data/dec-23_cairo.pdf',\n",
       " 'os-collaboration-exercise-data/feb-22_cairo.png',\n",
       " 'os-collaboration-exercise-data/apr-15_cairo.jpg',\n",
       " 'os-collaboration-exercise-data/oct-23_cairo.jpg',\n",
       " 'os-collaboration-exercise-data/aug-03_cairo.png',\n",
       " 'os-collaboration-exercise-data/Cairo/09-18-cairo.txt',\n",
       " 'os-collaboration-exercise-data/Cairo/04-06-cairo.txt',\n",
       " 'os-collaboration-exercise-data/Cairo/03-06-cairo.txt',\n",
       " 'os-collaboration-exercise-data/Cairo/01-03-cairo.txt',\n",
       " 'os-collaboration-exercise-data/Cairo/03-12-cairo.txt',\n",
       " 'os-collaboration-exercise-data/Cairo/04-12-cairo.txt',\n",
       " 'os-collaboration-exercise-data/Cairo/12-05-cairo.txt',\n",
       " 'os-collaboration-exercise-data/Cairo/07-30-cairo.txt',\n",
       " 'os-collaboration-exercise-data/Cairo/07-24-cairo.txt',\n",
       " 'os-collaboration-exercise-data/Cairo/07-08-cairo.txt',\n",
       " 'os-collaboration-exercise-data/Cairo/12-29-cairo.txt',\n",
       " 'os-collaboration-exercise-data/Cairo/08-07-cairo.txt',\n",
       " 'os-collaboration-exercise-data/Cairo/09-20-cairo.txt',\n",
       " 'os-collaboration-exercise-data/Cairo/08-26-cairo.txt',\n",
       " 'os-collaboration-exercise-data/Cairo/07-29-cairo.txt',\n",
       " 'os-collaboration-exercise-data/Cairo/12-03-cairo.txt',\n",
       " 'os-collaboration-exercise-data/Cairo/01-30-cairo.txt',\n",
       " 'os-collaboration-exercise-data/Cairo/12-17-cairo.txt',\n",
       " 'os-collaboration-exercise-data/Cairo/05-27-cairo.txt',\n",
       " 'os-collaboration-exercise-data/Cairo/11-14-cairo.txt',\n",
       " 'os-collaboration-exercise-data/Cairo/04-21-cairo.txt',\n",
       " 'os-collaboration-exercise-data/Cairo/01-05-cairo.txt',\n",
       " 'os-collaboration-exercise-data/Cairo/08-18-cairo.txt',\n",
       " 'os-collaboration-exercise-data/Cairo/04-14-cairo.txt',\n",
       " 'os-collaboration-exercise-data/Cairo/11-21-cairo.txt',\n",
       " 'os-collaboration-exercise-data/Cairo/12-22-cairo.txt',\n",
       " 'os-collaboration-exercise-data/Cairo/07-17-cairo.txt',\n",
       " 'os-collaboration-exercise-data/Cairo/05-12-cairo.txt',\n",
       " 'os-collaboration-exercise-data/Cairo/03-14-cairo.txt',\n",
       " 'os-collaboration-exercise-data/Cairo/01-11-cairo.txt',\n",
       " 'os-collaboration-exercise-data/Cairo/09-26-cairo.txt',\n",
       " 'os-collaboration-exercise-data/Cairo/08-20-cairo.txt',\n",
       " 'os-collaboration-exercise-data/Cairo/11-19-cairo.txt',\n",
       " 'os-collaboration-exercise-data/Cairo/01-08-cairo.txt',\n",
       " 'os-collaboration-exercise-data/Cairo/09-13-cairo.txt',\n",
       " 'os-collaboration-exercise-data/Cairo/09-07-cairo.txt',\n",
       " 'os-collaboration-exercise-data/Cairo/08-01-cairo.txt',\n",
       " 'os-collaboration-exercise-data/Cairo/03-19-cairo.txt',\n",
       " 'os-collaboration-exercise-data/Cairo/01-16-cairo.txt',\n",
       " 'os-collaboration-exercise-data/Cairo/04-13-cairo.txt',\n",
       " 'os-collaboration-exercise-data/Cairo/07-10-cairo.txt',\n",
       " 'os-collaboration-exercise-data/Cairo/07-04-cairo.txt',\n",
       " 'os-collaboration-exercise-data/Cairo/05-01-cairo.txt',\n",
       " 'os-collaboration-exercise-data/Cairo/04-07-cairo.txt',\n",
       " 'os-collaboration-exercise-data/Cairo/01-02-cairo.txt',\n",
       " 'os-collaboration-exercise-data/Cairo/12-10-cairo.txt',\n",
       " 'os-collaboration-exercise-data/Cairo/02-20-cairo.txt',\n",
       " 'os-collaboration-exercise-data/Cairo/01-23-cairo.txt',\n",
       " 'os-collaboration-exercise-data/Cairo/12-04-cairo.txt',\n",
       " 'os-collaboration-exercise-data/Cairo/08-12-cairo.txt',\n",
       " 'os-collaboration-exercise-data/Cairo/12-09-cairo.txt',\n",
       " 'os-collaboration-exercise-data/Cairo/02-26-cairo.txt',\n",
       " 'os-collaboration-exercise-data/Cairo/04-20-cairo.txt',\n",
       " 'os-collaboration-exercise-data/Cairo/04-15-cairo.txt',\n",
       " 'os-collaboration-exercise-data/Cairo/07-16-cairo.txt',\n",
       " 'os-collaboration-exercise-data/Cairo/12-23-cairo.txt',\n",
       " 'os-collaboration-exercise-data/Cairo/01-04-cairo.txt',\n",
       " 'os-collaboration-exercise-data/Cairo/08-19-cairo.txt',\n",
       " 'os-collaboration-exercise-data/Cairo/06-28-cairo.txt',\n",
       " 'os-collaboration-exercise-data/Cairo/01-09-cairo.txt',\n",
       " 'os-collaboration-exercise-data/Cairo/08-14-cairo.txt',\n",
       " 'os-collaboration-exercise-data/Cairo/09-12-cairo.txt',\n",
       " 'os-collaboration-exercise-data/Cairo/12-07-cairo.txt',\n",
       " 'os-collaboration-exercise-data/Cairo/11-04-cairo.txt',\n",
       " 'os-collaboration-exercise-data/Cairo/11-10-cairo.txt',\n",
       " 'os-collaboration-exercise-data/Cairo/12-13-cairo.txt',\n",
       " 'os-collaboration-exercise-data/Cairo/07-26-cairo.txt',\n",
       " 'os-collaboration-exercise-data/Cairo/01-20-cairo.txt',\n",
       " 'os-collaboration-exercise-data/Cairo/05-02-cairo.txt',\n",
       " 'os-collaboration-exercise-data/Cairo/01-15-cairo.txt',\n",
       " 'os-collaboration-exercise-data/Cairo/07-13-cairo.txt',\n",
       " 'os-collaboration-exercise-data/Cairo/12-26-cairo.txt',\n",
       " 'os-collaboration-exercise-data/Cairo/10-23-cairo.txt',\n",
       " 'os-collaboration-exercise-data/Cairo/08-08-cairo.txt',\n",
       " 'os-collaboration-exercise-data/Cairo/04-10-cairo.txt',\n",
       " 'os-collaboration-exercise-data/Cairo/08-24-cairo.txt',\n",
       " 'os-collaboration-exercise-data/Cairo/09-22-cairo.txt',\n",
       " 'os-collaboration-exercise-data/Cairo/08-05-cairo.txt',\n",
       " 'os-collaboration-exercise-data/Cairo/01-07-cairo.txt',\n",
       " 'os-collaboration-exercise-data/Cairo/04-02-cairo.txt',\n",
       " 'os-collaboration-exercise-data/Cairo/09-08-cairo.txt',\n",
       " 'os-collaboration-exercise-data/Cairo/07-15-cairo.txt',\n",
       " 'os-collaboration-exercise-data/Cairo/02-10-cairo.txt',\n",
       " 'os-collaboration-exercise-data/Cairo/01-13-cairo.txt',\n",
       " 'os-collaboration-exercise-data/Cairo/12-01-cairo.txt',\n",
       " 'os-collaboration-exercise-data/Cairo/02-25-cairo.txt',\n",
       " 'os-collaboration-exercise-data/Cairo/04-23-cairo.txt',\n",
       " 'os-collaboration-exercise-data/Cairo/05-25-cairo.txt',\n",
       " 'os-collaboration-exercise-data/Cairo/09-11-cairo.txt',\n",
       " 'os-collaboration-exercise-data/Cairo/08-03-cairo.txt',\n",
       " 'os-collaboration-exercise-data/Cairo/09-05-cairo.txt',\n",
       " 'os-collaboration-exercise-data/Cairo/09-24-cairo.txt',\n",
       " 'os-collaboration-exercise-data/Cairo/12-18-cairo.txt',\n",
       " 'os-collaboration-exercise-data/Cairo/04-24-cairo.txt',\n",
       " 'os-collaboration-exercise-data/Cairo/07-27-cairo.txt',\n",
       " 'os-collaboration-exercise-data/Cairo/03-24-cairo.txt',\n",
       " 'os-collaboration-exercise-data/Cairo/01-21-cairo.txt',\n",
       " 'os-collaboration-exercise-data/Cairo/02-22-cairo.txt',\n",
       " 'os-collaboration-exercise-data/Cairo/11-05-cairo.txt',\n",
       " 'os-collaboration-exercise-data/Cairo/02-17-cairo.txt',\n",
       " 'os-collaboration-exercise-data/Cairo/12-27-cairo.txt',\n",
       " 'os-collaboration-exercise-data/Cairo/05-17-cairo.txt',\n",
       " 'os-collaboration-exercise-data/Cairo/03-05-cairo.txt',\n",
       " 'os-collaboration-exercise-data/Cairo/08-25-cairo.txt',\n",
       " 'os-collaboration-exercise-data/Cairo/09-23-cairo.txt',\n",
       " 'os-collaboration-exercise-data/Cairo/01-19-cairo.txt',\n",
       " 'os-collaboration-exercise-data/Cairo/11-29-cairo.txt',\n",
       " 'os-collaboration-exercise-data/Cairo/08-04-cairo.txt',\n",
       " 'os-collaboration-exercise-data/Cairo/09-02-cairo.txt',\n",
       " 'os-collaboration-exercise-data/Cairo/09-16-cairo.txt',\n",
       " 'os-collaboration-exercise-data/Cairo/08-10-cairo.txt',\n",
       " 'os-collaboration-exercise-data/Cairo/07-14-cairo.txt',\n",
       " 'os-collaboration-exercise-data/Cairo/12-21-cairo.txt',\n",
       " 'os-collaboration-exercise-data/Cairo/04-17-cairo.txt',\n",
       " 'os-collaboration-exercise-data/Cairo/01-12-cairo.txt',\n",
       " 'os-collaboration-exercise-data/Cairo/01-27-cairo.txt',\n",
       " 'os-collaboration-exercise-data/Cairo/04-22-cairo.txt',\n",
       " 'os-collaboration-exercise-data/Cairo/11-17-cairo.txt',\n",
       " 'os-collaboration-exercise-data/Cairo/09-28-cairo.txt',\n",
       " 'os-collaboration-exercise-data/Cairo/05-30-cairo.txt',\n",
       " 'os-collaboration-exercise-data/Cairo/11-03-cairo.txt',\n",
       " 'os-collaboration-exercise-data/Cairo/07-19-cairo.txt',\n",
       " 'os-collaboration-exercise-data/Cairo/09-04-cairo.txt',\n",
       " 'os-collaboration-exercise-data/Cairo/12-19-cairo.txt',\n",
       " 'os-collaboration-exercise-data/Cairo/05-29-cairo.txt',\n",
       " 'os-collaboration-exercise-data/Cairo/09-25-cairo.txt']"
      ]
     },
     "execution_count": 4,
     "metadata": {},
     "output_type": "execute_result"
    }
   ],
   "source": [
    "glob.glob('os-collaboration-exercise-data/**/*cairo*', recursive=True)"
   ]
  },
  {
   "cell_type": "markdown",
   "id": "883ccca9-f5b6-4ceb-8402-0e0ff574025f",
   "metadata": {},
   "source": [
    "## Exercise 7"
   ]
  },
  {
   "cell_type": "code",
   "execution_count": 5,
   "id": "5d6d8af5-eb8d-4854-9be4-326a0a53faa6",
   "metadata": {},
   "outputs": [
    {
     "ename": "Error",
     "evalue": "Destination path './os-collaboration-exercise-data/Cairo/09-18-cairo.txt' already exists",
     "output_type": "error",
     "traceback": [
      "\u001b[0;31m---------------------------------------------------------------------------\u001b[0m",
      "\u001b[0;31mError\u001b[0m                                     Traceback (most recent call last)",
      "Cell \u001b[0;32mIn[5], line 5\u001b[0m\n\u001b[1;32m      3\u001b[0m     dir_path, file_name \u001b[38;5;241m=\u001b[39m os\u001b[38;5;241m.\u001b[39mpath\u001b[38;5;241m.\u001b[39msplit(path_name)\n\u001b[1;32m      4\u001b[0m     path_to_destination \u001b[38;5;241m=\u001b[39m os\u001b[38;5;241m.\u001b[39mpath\u001b[38;5;241m.\u001b[39mjoin(\u001b[38;5;124m'\u001b[39m\u001b[38;5;124m.\u001b[39m\u001b[38;5;124m'\u001b[39m,\u001b[38;5;124m'\u001b[39m\u001b[38;5;124mos-collaboration-exercise-data\u001b[39m\u001b[38;5;124m'\u001b[39m,\u001b[38;5;124m'\u001b[39m\u001b[38;5;124mCairo\u001b[39m\u001b[38;5;124m'\u001b[39m)\n\u001b[0;32m----> 5\u001b[0m     \u001b[43mshutil\u001b[49m\u001b[38;5;241;43m.\u001b[39;49m\u001b[43mmove\u001b[49m\u001b[43m(\u001b[49m\u001b[43mpath_name\u001b[49m\u001b[43m,\u001b[49m\u001b[43m \u001b[49m\u001b[43mpath_to_destination\u001b[49m\u001b[43m)\u001b[49m\n\u001b[1;32m      7\u001b[0m \u001b[38;5;66;03m# The code shows an error because I ran it after moving the txt files\u001b[39;00m\n",
      "File \u001b[0;32m~/miniconda3/lib/python3.12/shutil.py:884\u001b[0m, in \u001b[0;36mmove\u001b[0;34m(src, dst, copy_function)\u001b[0m\n\u001b[1;32m    881\u001b[0m     real_dst \u001b[38;5;241m=\u001b[39m os\u001b[38;5;241m.\u001b[39mpath\u001b[38;5;241m.\u001b[39mjoin(dst, _basename(src))\n\u001b[1;32m    883\u001b[0m     \u001b[38;5;28;01mif\u001b[39;00m os\u001b[38;5;241m.\u001b[39mpath\u001b[38;5;241m.\u001b[39mexists(real_dst):\n\u001b[0;32m--> 884\u001b[0m         \u001b[38;5;28;01mraise\u001b[39;00m Error(\u001b[38;5;124m\"\u001b[39m\u001b[38;5;124mDestination path \u001b[39m\u001b[38;5;124m'\u001b[39m\u001b[38;5;132;01m%s\u001b[39;00m\u001b[38;5;124m'\u001b[39m\u001b[38;5;124m already exists\u001b[39m\u001b[38;5;124m\"\u001b[39m \u001b[38;5;241m%\u001b[39m real_dst)\n\u001b[1;32m    885\u001b[0m \u001b[38;5;28;01mtry\u001b[39;00m:\n\u001b[1;32m    886\u001b[0m     os\u001b[38;5;241m.\u001b[39mrename(src, real_dst)\n",
      "\u001b[0;31mError\u001b[0m: Destination path './os-collaboration-exercise-data/Cairo/09-18-cairo.txt' already exists"
     ]
    }
   ],
   "source": [
    "path = glob.glob('os-collaboration-exercise-data/**/*cairo*', recursive=True)\n",
    "for path_name in path:\n",
    "    dir_path, file_name = os.path.split(path_name)\n",
    "    path_to_destination = os.path.join('.','os-collaboration-exercise-data','Cairo')\n",
    "    shutil.move(path_name, path_to_destination)\n",
    "\n",
    "# The code shows an error because I ran it after moving the txt files"
   ]
  },
  {
   "cell_type": "markdown",
   "id": "835a0704-8a1a-4422-afd4-8dbdd1e1b88d",
   "metadata": {},
   "source": [
    "## Exercise 8"
   ]
  },
  {
   "cell_type": "code",
   "execution_count": 6,
   "id": "afa603ee-d101-4765-91da-cc4230964547",
   "metadata": {},
   "outputs": [
    {
     "ename": "Error",
     "evalue": "Destination path 'os-collaboration-exercise-data/Karachi/12-17-karachi.txt' already exists",
     "output_type": "error",
     "traceback": [
      "\u001b[0;31m---------------------------------------------------------------------------\u001b[0m",
      "\u001b[0;31mError\u001b[0m                                     Traceback (most recent call last)",
      "Cell \u001b[0;32mIn[6], line 17\u001b[0m\n\u001b[1;32m     13\u001b[0m         city_name \u001b[38;5;241m=\u001b[39m city\n\u001b[1;32m     15\u001b[0m path_to_destination \u001b[38;5;241m=\u001b[39m os\u001b[38;5;241m.\u001b[39mpath\u001b[38;5;241m.\u001b[39mjoin(\u001b[38;5;124m'\u001b[39m\u001b[38;5;124mos-collaboration-exercise-data\u001b[39m\u001b[38;5;124m'\u001b[39m, city_name)\n\u001b[0;32m---> 17\u001b[0m \u001b[43mshutil\u001b[49m\u001b[38;5;241;43m.\u001b[39;49m\u001b[43mmove\u001b[49m\u001b[43m(\u001b[49m\u001b[43mpath_name\u001b[49m\u001b[43m,\u001b[49m\u001b[43m \u001b[49m\u001b[43mpath_to_destination\u001b[49m\u001b[43m)\u001b[49m\n",
      "File \u001b[0;32m~/miniconda3/lib/python3.12/shutil.py:884\u001b[0m, in \u001b[0;36mmove\u001b[0;34m(src, dst, copy_function)\u001b[0m\n\u001b[1;32m    881\u001b[0m     real_dst \u001b[38;5;241m=\u001b[39m os\u001b[38;5;241m.\u001b[39mpath\u001b[38;5;241m.\u001b[39mjoin(dst, _basename(src))\n\u001b[1;32m    883\u001b[0m     \u001b[38;5;28;01mif\u001b[39;00m os\u001b[38;5;241m.\u001b[39mpath\u001b[38;5;241m.\u001b[39mexists(real_dst):\n\u001b[0;32m--> 884\u001b[0m         \u001b[38;5;28;01mraise\u001b[39;00m Error(\u001b[38;5;124m\"\u001b[39m\u001b[38;5;124mDestination path \u001b[39m\u001b[38;5;124m'\u001b[39m\u001b[38;5;132;01m%s\u001b[39;00m\u001b[38;5;124m'\u001b[39m\u001b[38;5;124m already exists\u001b[39m\u001b[38;5;124m\"\u001b[39m \u001b[38;5;241m%\u001b[39m real_dst)\n\u001b[1;32m    885\u001b[0m \u001b[38;5;28;01mtry\u001b[39;00m:\n\u001b[1;32m    886\u001b[0m     os\u001b[38;5;241m.\u001b[39mrename(src, real_dst)\n",
      "\u001b[0;31mError\u001b[0m: Destination path 'os-collaboration-exercise-data/Karachi/12-17-karachi.txt' already exists"
     ]
    }
   ],
   "source": [
    "# the code shows an error because I tried running it after moving the files. All files have been moved!\n",
    "\n",
    "cities = ['Dhaka', 'Jakarta', 'Karachi', 'Manila',\n",
    "          'Melbourne', 'Osaka', 'Shanghai', 'Singapore', 'Tokyo']\n",
    "\n",
    "paths = glob.glob('os-collaboration-exercise-data/**/*', recursive=True)\n",
    "\n",
    "for path_name in paths:\n",
    "    dir_path, file_name = os.path.split(path_name)\n",
    "    \n",
    "    for city in cities:\n",
    "        if city.lower() in file_name.lower():  # Case-insensitive match\n",
    "            city_name = city\n",
    "    \n",
    "    path_to_destination = os.path.join('os-collaboration-exercise-data', city_name)\n",
    "    \n",
    "    shutil.move(path_name, path_to_destination)"
   ]
  }
 ],
 "metadata": {
  "kernelspec": {
   "display_name": "Python 3 (ipykernel)",
   "language": "python",
   "name": "python3"
  },
  "language_info": {
   "codemirror_mode": {
    "name": "ipython",
    "version": 3
   },
   "file_extension": ".py",
   "mimetype": "text/x-python",
   "name": "python",
   "nbconvert_exporter": "python",
   "pygments_lexer": "ipython3",
   "version": "3.12.2"
  },
  "toc": {
   "base_numbering": 1,
   "nav_menu": {},
   "number_sections": true,
   "sideBar": true,
   "skip_h1_title": false,
   "title_cell": "Table of Contents",
   "title_sidebar": "Contents",
   "toc_cell": false,
   "toc_position": {},
   "toc_section_display": true,
   "toc_window_display": false
  },
  "vscode": {
   "interpreter": {
    "hash": "31f2aee4e71d21fbe5cf8b01ff0e069b9275f58929596ceb00d14d90e3e16cd6"
   }
  }
 },
 "nbformat": 4,
 "nbformat_minor": 5
}
