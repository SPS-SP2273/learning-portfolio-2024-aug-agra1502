{
 "cells": [
  {
   "attachments": {},
   "cell_type": "markdown",
   "id": "123456",
   "metadata": {},
   "source": [
    "<div style=\"text-align:left;font-size:2em\"><span style=\"font-weight:bolder;font-size:1.25em\">SP2273 | Learning Portfolio</span><br><br><span style=\"font-weight:bold;color:darkred\">Storing Data (Need) Exercises</span></div>"
   ]
  },
  {
   "cell_type": "markdown",
   "id": "3bafbf9d-31e5-4b0f-a76b-b1b409748cb3",
   "metadata": {},
   "source": [
    "## Exercise 1"
   ]
  },
  {
   "cell_type": "markdown",
   "id": "cfc2105b-30a5-4556-bba7-d8380ac5a3d1",
   "metadata": {},
   "source": [
    "1. Similarities\n",
    "   (1) use the same indexing, eg, ```py_list[1]``` and ```np_array[1]```\n",
    "   (2) both can be used to store data in multiple dimensions, eg, ```py_list = [[1,2],[3,4],[5,6]]``` or ```np_array = ([[1,2],[3,4],[5,6]])```\n",
    "\n",
    "2. Differences\n",
    "   (1) lists are slower than arrays in data processing\n",
    "   (2) arrays are more specific in the arguments they take, i.e., every index position must have the same dimension, ```np_array = ([[1,2],[3,4],[5,6,7]])``` will not be allowed (3) arrays also need the same data type, eg, ```np_array = ([[1,2],[3,4],[5,\"6\"]])``` is not possible\n",
    "\n",
    "3. A dictionary takes in two arguments a token and its value. The value is recognised by its token, i.e, if I have a dictionary ```dic_1 = {\"hi\" : \"yash\"}``` the value ```\"yash\"``` can only be called with its token ```\"hi\"```"
   ]
  },
  {
   "cell_type": "markdown",
   "id": "8165e764-fbfd-4933-8945-e7e957ae6a54",
   "metadata": {},
   "source": [
    "## Exercise 2"
   ]
  },
  {
   "cell_type": "code",
   "execution_count": 4,
   "id": "7b769ecc-92c4-41bb-abe8-b8bfb2ea8fed",
   "metadata": {},
   "outputs": [
    {
     "data": {
      "text/plain": [
       "array(['a1', 'c3', 'e5', 'g7', 'i9'], dtype='<U3')"
      ]
     },
     "execution_count": 4,
     "metadata": {},
     "output_type": "execute_result"
    }
   ],
   "source": [
    "import numpy as np\n",
    "\n",
    "py_list = [\"a1\", \"b2\", \"c3\", \"d4\", \"e5\", \"f6\", \"g7\", \"h8\", \"i9\", \"j10\"]\n",
    "np_array = np.array(py_list)\n",
    "\n",
    "np_array[0:-1:2]\n",
    "\n",
    "# I choose to put -1 as in a list I may not always know the total number of values stored within it (without running len/shape)"
   ]
  },
  {
   "cell_type": "markdown",
   "id": "e8b30a5a-43b0-4690-9628-1c41f9a66a44",
   "metadata": {},
   "source": [
    "## Exercise 3"
   ]
  },
  {
   "cell_type": "code",
   "execution_count": 3,
   "id": "36844fdd-6748-4366-a2d3-f59476f20098",
   "metadata": {},
   "outputs": [
    {
     "data": {
      "text/plain": [
       "'Boron'"
      ]
     },
     "execution_count": 3,
     "metadata": {},
     "output_type": "execute_result"
    }
   ],
   "source": [
    "elements = ['Hydrogen',\n",
    "            'Helium', 'Lithium',\n",
    "            'Beryllium', 'Boron', 'Carbon',\n",
    "            'Nitrogen', 'Oxygen',\n",
    "            'Fluorine',\n",
    "            'Neon']\n",
    "\n",
    "# Indexing from the front\n",
    "elements[4]"
   ]
  },
  {
   "cell_type": "code",
   "execution_count": 2,
   "id": "5de4ecd3-99a0-470f-a2b6-dc92deab2093",
   "metadata": {},
   "outputs": [
    {
     "data": {
      "text/plain": [
       "'Boron'"
      ]
     },
     "execution_count": 2,
     "metadata": {},
     "output_type": "execute_result"
    }
   ],
   "source": [
    "# Indexing from the back\n",
    "elements[-6]"
   ]
  },
  {
   "cell_type": "markdown",
   "id": "3cd48f84-88dd-4951-a816-0616719ab4f9",
   "metadata": {},
   "source": [
    "## Exercise 4"
   ]
  },
  {
   "cell_type": "code",
   "execution_count": 47,
   "id": "0b1a00c1-07a1-48d7-adfb-6a7e6d285631",
   "metadata": {},
   "outputs": [
    {
     "data": {
      "text/plain": [
       "9"
      ]
     },
     "execution_count": 47,
     "metadata": {},
     "output_type": "execute_result"
    }
   ],
   "source": [
    "numbers=[45, 60, 1, 30, 96, 1, 96, 57, 16, 1,\n",
    "        99, 62, 86, 43, 42, 60, 59, 1, 1, 35,\n",
    "        83, 47, 34, 28, 68, 23, 22, 92, 1, 79,\n",
    "        1, 29, 94, 72, 46, 47, 1, 74, 32, 20,\n",
    "        8, 37, 35, 1, 89, 29, 86, 19, 43, 61]\n",
    "\n",
    "np_numbers = np.array(numbers)\n",
    "\n",
    "len(np_numbers[np_numbers == 1])"
   ]
  },
  {
   "cell_type": "markdown",
   "id": "ac23958a-227e-47a0-990c-7b0fe83b79cd",
   "metadata": {},
   "source": [
    "## Exercise 5"
   ]
  },
  {
   "cell_type": "code",
   "execution_count": 5,
   "id": "eaac5c6d-4714-45b0-92e7-c57267081d8c",
   "metadata": {},
   "outputs": [
    {
     "data": {
      "text/plain": [
       "(np.float64(38.5), np.float64(302.5))"
      ]
     },
     "execution_count": 5,
     "metadata": {},
     "output_type": "execute_result"
    }
   ],
   "source": [
    "x_1 = [1, 4, 9, 16, 25, 36, 49, 64, 81, 100]\n",
    "x_2 = [1, 8, 27, 64, 125, 216, 343, 512, 729, 1000]\n",
    "\n",
    "np_x_1 = np.array(x_1)\n",
    "np_x_2 = np.array(x_2)\n",
    "\n",
    "# x_1 mean, x_2 mean\n",
    "np_x_1.mean(), np_x_2.mean()"
   ]
  },
  {
   "cell_type": "code",
   "execution_count": 54,
   "id": "4cba3edb-d7a9-4f0a-9dd9-343c7be9773d",
   "metadata": {},
   "outputs": [
    {
     "data": {
      "text/plain": [
       "(np.float64(32.41990129534635), np.float64(326.0893282522444))"
      ]
     },
     "execution_count": 54,
     "metadata": {},
     "output_type": "execute_result"
    }
   ],
   "source": [
    "# x_1 std, x_2 std\n",
    "np_x_1.std(), np_x_2.std()"
   ]
  },
  {
   "cell_type": "code",
   "execution_count": 6,
   "id": "92807739-0e81-4df9-bd7f-a19d5305a3ad",
   "metadata": {},
   "outputs": [
    {
     "data": {
      "text/plain": [
       "np.float64(0.9871796626270702)"
      ]
     },
     "execution_count": 6,
     "metadata": {},
     "output_type": "execute_result"
    }
   ],
   "source": [
    "# To find Pearson correlation coefficient\n",
    "covariance = (x_1 - np_x_1.mean()) * (x_2 - np_x_2.mean())\n",
    "covariance.mean()/(np_x_1.std() * np_x_2.std())"
   ]
  },
  {
   "cell_type": "code",
   "execution_count": 12,
   "id": "2b5684a2-7bf5-4350-8d3d-9f13a5ff9de6",
   "metadata": {},
   "outputs": [
    {
     "data": {
      "text/plain": [
       "array([[1.        , 0.98717966],\n",
       "       [0.98717966, 1.        ]])"
      ]
     },
     "execution_count": 12,
     "metadata": {},
     "output_type": "execute_result"
    }
   ],
   "source": [
    "np.corrcoef(np_x_1, np_x_2)"
   ]
  },
  {
   "cell_type": "markdown",
   "id": "553eee3f-cdd9-4d4e-b7ab-ea68748ea6c8",
   "metadata": {},
   "source": [
    "Comparing and discussing results\n",
    "\n",
    "The number 1 represents perfect covariance with the individual array, eg, array np_x_1 has perfect covariance with itself. The diagonal numbers represent the covariance with respect to the other array mentioned (```np_x_2``` in ```np.corrcoef[0, 1]``` and ```np_x_1``` in ```np.corrcoef[1, 0]```). The only difference I see between using ```np.corrcoef``` and calculating it manually is the difference in accuracy. I am able to get 16 decimal points with the latter (manual calculation), while only 8 decimal points with the former (```np.corrcoef```)."
   ]
  }
 ],
 "metadata": {
  "kernelspec": {
   "display_name": "Python 3 (ipykernel)",
   "language": "python",
   "name": "python3"
  },
  "language_info": {
   "codemirror_mode": {
    "name": "ipython",
    "version": 3
   },
   "file_extension": ".py",
   "mimetype": "text/x-python",
   "name": "python",
   "nbconvert_exporter": "python",
   "pygments_lexer": "ipython3",
   "version": "3.12.2"
  },
  "toc": {
   "base_numbering": 1,
   "nav_menu": {},
   "number_sections": true,
   "sideBar": true,
   "skip_h1_title": false,
   "title_cell": "Table of Contents",
   "title_sidebar": "Contents",
   "toc_cell": false,
   "toc_position": {},
   "toc_section_display": true,
   "toc_window_display": false
  },
  "vscode": {
   "interpreter": {
    "hash": "31f2aee4e71d21fbe5cf8b01ff0e069b9275f58929596ceb00d14d90e3e16cd6"
   }
  }
 },
 "nbformat": 4,
 "nbformat_minor": 5
}
