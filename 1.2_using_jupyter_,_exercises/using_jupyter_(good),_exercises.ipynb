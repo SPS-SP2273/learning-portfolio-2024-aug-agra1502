{
 "cells": [
  {
   "attachments": {},
   "cell_type": "markdown",
   "id": "123456",
   "metadata": {},
   "source": [
    "<div style=\"text-align:left;font-size:2em\"><span style=\"font-weight:bolder;font-size:1.25em\">SP2273 | Learning Portfolio</span><br><br><span style=\"font-weight:bold;color:darkred\">Using Jupyter (Good), Exercises</span></div>"
   ]
  },
  {
   "cell_type": "markdown",
   "id": "5f1b0c91-906e-49fc-83e5-f609896fec75",
   "metadata": {},
   "source": [
    "## Exercise 1"
   ]
  },
  {
   "cell_type": "code",
   "execution_count": 1,
   "id": "e3231671-e9e7-42ff-8463-de8a31177db7",
   "metadata": {},
   "outputs": [],
   "source": [
    "# while True:\n",
    "#     print('*', end='')\n",
    "\n",
    "# did interrupt kernel (KeyboardInterrupt error).\n",
    "# While loop commented due to an issue (long loading time) while opening the file."
   ]
  },
  {
   "cell_type": "markdown",
   "id": "e6fbe011-d31b-477e-9603-cf2f5737fc14",
   "metadata": {},
   "source": [
    "## Exercise 2"
   ]
  },
  {
   "cell_type": "code",
   "execution_count": 7,
   "id": "97059cfe-e2b7-48ed-839f-3e1f896d1256",
   "metadata": {},
   "outputs": [
    {
     "ename": "TypeError",
     "evalue": "'str' object is not callable",
     "output_type": "error",
     "traceback": [
      "\u001b[0;31m---------------------------------------------------------------------------\u001b[0m",
      "\u001b[0;31mTypeError\u001b[0m                                 Traceback (most recent call last)",
      "Cell \u001b[0;32mIn[7], line 2\u001b[0m\n\u001b[1;32m      1\u001b[0m \u001b[38;5;28mprint\u001b[39m \u001b[38;5;241m=\u001b[39m \u001b[38;5;124m'\u001b[39m\u001b[38;5;124mPRINT\u001b[39m\u001b[38;5;124m'\u001b[39m\n\u001b[0;32m----> 2\u001b[0m \u001b[38;5;28;43mprint\u001b[39;49m\u001b[43m(\u001b[49m\u001b[38;5;124;43m'\u001b[39;49m\u001b[38;5;124;43mHello World\u001b[39;49m\u001b[38;5;124;43m'\u001b[39;49m\u001b[43m)\u001b[49m\n",
      "\u001b[0;31mTypeError\u001b[0m: 'str' object is not callable"
     ]
    }
   ],
   "source": [
    "print = 'PRINT'\n",
    "print('Hello World')"
   ]
  },
  {
   "cell_type": "markdown",
   "id": "35d49d85-5776-43b0-a086-4436e939d056",
   "metadata": {},
   "source": [
    "## Exercise 3"
   ]
  },
  {
   "cell_type": "code",
   "execution_count": 3,
   "id": "7120ff3a-abf4-4052-956d-15d3f6ec5552",
   "metadata": {},
   "outputs": [
    {
     "name": "stdout",
     "output_type": "stream",
     "text": [
      "590 ns ± 5.45 ns per loop (mean ± std. dev. of 7 runs, 1,000,000 loops each)\n"
     ]
    }
   ],
   "source": [
    "%%timeit\n",
    "squares = [i**2 for i in range(10)]\n",
    "\n",
    "# This code will be faster as it is only one line of code and can be read faster than three lines of code."
   ]
  },
  {
   "cell_type": "code",
   "execution_count": 4,
   "id": "e8dfc952-78f8-4533-9b9d-80b72012a1cc",
   "metadata": {},
   "outputs": [
    {
     "name": "stdout",
     "output_type": "stream",
     "text": [
      "639 ns ± 2.76 ns per loop (mean ± std. dev. of 7 runs, 1,000,000 loops each)\n"
     ]
    }
   ],
   "source": [
    "%%timeit\n",
    "squares = list()\n",
    "for i in range(10):\n",
    "    squares.append(i**2)"
   ]
  },
  {
   "cell_type": "markdown",
   "id": "f8f82047-2baf-4ee8-87e2-9512e6b4b5ec",
   "metadata": {},
   "source": [
    "**Explaining the difference between the timings**\n",
    "\n",
    "590 and 639 represent the mean time of running the function, i.e, over 1,000,000 iterations, the code took 590ns and 639ns to run.\n",
    "\n",
    "5.45 and 2.76 represent the average deviation of run time from the mean, i.e, over 1,000,000 iterations, the code had a variation of run time by 5.45ns and 2.76ns. The fact that the second code had a shorter variation means it was more consistent in its execution in comparison to code 1.\n",
    "\n",
    "Code 1 is faster due to (a) comprehension of the list, i.e, it is a single operation (while the 2nd code has multiple operations) and (b) there is no loop in code 1 (the for loop may have increased the run time in code 2)"
   ]
  },
  {
   "cell_type": "code",
   "execution_count": 5,
   "id": "8f07a9cc-f04d-4dfe-98cd-78d435cce96d",
   "metadata": {},
   "outputs": [
    {
     "name": "stdout",
     "output_type": "stream",
     "text": [
      "[0, 1, 4, 9, 16, 25, 36, 49, 64, 81]\n"
     ]
    }
   ],
   "source": [
    "squares = [i**2 for i in range(10)]\n",
    "print(squares)"
   ]
  },
  {
   "cell_type": "code",
   "execution_count": 6,
   "id": "8dee95fd-b057-4f9d-8810-c177935604fc",
   "metadata": {},
   "outputs": [],
   "source": [
    "squares = list()\n",
    "for i in range(10):\n",
    "    squares.append(i**2)"
   ]
  },
  {
   "attachments": {},
   "cell_type": "markdown",
   "id": "bcb5986a",
   "metadata": {},
   "source": [
    "## Footnotes"
   ]
  }
 ],
 "metadata": {
  "kernelspec": {
   "display_name": "Python 3 (ipykernel)",
   "language": "python",
   "name": "python3"
  },
  "language_info": {
   "codemirror_mode": {
    "name": "ipython",
    "version": 3
   },
   "file_extension": ".py",
   "mimetype": "text/x-python",
   "name": "python",
   "nbconvert_exporter": "python",
   "pygments_lexer": "ipython3",
   "version": "3.12.2"
  },
  "toc": {
   "base_numbering": 1,
   "nav_menu": {},
   "number_sections": true,
   "sideBar": true,
   "skip_h1_title": false,
   "title_cell": "Table of Contents",
   "title_sidebar": "Contents",
   "toc_cell": false,
   "toc_position": {},
   "toc_section_display": true,
   "toc_window_display": false
  },
  "vscode": {
   "interpreter": {
    "hash": "31f2aee4e71d21fbe5cf8b01ff0e069b9275f58929596ceb00d14d90e3e16cd6"
   }
  }
 },
 "nbformat": 4,
 "nbformat_minor": 5
}
