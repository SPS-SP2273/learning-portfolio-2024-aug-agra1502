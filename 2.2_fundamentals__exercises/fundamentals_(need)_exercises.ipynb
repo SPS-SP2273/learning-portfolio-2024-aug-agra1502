{
 "cells": [
  {
   "attachments": {},
   "cell_type": "markdown",
   "id": "123456",
   "metadata": {},
   "source": [
    "<div style=\"text-align:left;font-size:2em\"><span style=\"font-weight:bolder;font-size:1.25em\">SP2273 | Learning Portfolio</span><br><br><span style=\"font-weight:bold;color:darkred\">Fundamentals (Need) Exercises</span></div>"
   ]
  },
  {
   "cell_type": "markdown",
   "id": "73a805c0-ac19-416b-ae3b-05bbf489aece",
   "metadata": {},
   "source": [
    "## Exercise 1"
   ]
  },
  {
   "cell_type": "markdown",
   "id": "3d7302f8-5a10-40f4-9486-234737062b22",
   "metadata": {},
   "source": [
    "1. print\n",
    "2. can use loops like if (including else/elif) *-- conditional statements*\n",
    "3. case/space/tab sensitivity\n",
    "4. format string\n",
    "5. bool (Yes/No, True/False)\n",
    "6. '==' not same as 'is'\n",
    "7. '=' not same as '==\"\n",
    "8. *```age``` not same as 'age' -- variables and english*\n",
    "9. *can use packages like math and numpy as well*\n",
    "10. *You can swap values*"
   ]
  },
  {
   "cell_type": "markdown",
   "id": "c7f3af0b-bced-4d10-842f-15f43984487e",
   "metadata": {},
   "source": [
    "## Exercise 2"
   ]
  },
  {
   "cell_type": "code",
   "execution_count": 1,
   "id": "99c05bcc-8e4b-40f3-8d0c-bbcee69f6891",
   "metadata": {},
   "outputs": [
    {
     "name": "stdout",
     "output_type": "stream",
     "text": [
      "3 4 5.0\n"
     ]
    }
   ],
   "source": [
    "# x, y = 3, 4\n",
    "#        z = sqrt(x*2 + y**2)\n",
    "#    Print(x, y, z)\n",
    "\n",
    "# to debug import math, fix indentation and associate the sqrt function with the math package\n",
    "\n",
    "import math\n",
    "\n",
    "x, y = 3, 4\n",
    "z = math.sqrt(x**2 + y**2)\n",
    "print(x, y, z)"
   ]
  },
  {
   "cell_type": "markdown",
   "id": "24f96153-95f9-44cf-9707-3ddb511edc73",
   "metadata": {},
   "source": [
    "## Exercise 3"
   ]
  },
  {
   "cell_type": "markdown",
   "id": "8eab04fd-ac05-4e6a-8e7f-45e03dfede62",
   "metadata": {},
   "source": [
    "|**\\#**|**Term**|**Description**|\n",
    "|:--:|:--|:--|\n",
    "|1|Function|any action verb that python can use, eg, ```print```, ```str```, etc.|\n",
    "|2|Arguments|a set of all the parameters that a function can take, eg, print has the argument of ```x``` in ```print(x)```|\n",
    "|3|Comments|a way to note down what the function does, write comments, etc|\n",
    "|4|Indentations|tells Python that the code indented is part of the above dictionary or conditional statement.|\n",
    "|5|Packages|allows Python to import functionalities not native to the |\n",
    "|6|.|Ownership indicator, for the function ```sqrt``` the owner is the math package. ```sqrt(4)``` will not work, but ```math.sqrt(4)``` will.|\n",
    "|7|:|It defines code blocks and is used to separate keys and values in dictionaries|\n",
    "|8|[]| A way to store data in lists|\n",
    "|9|[[],[]]|a list within an list|\n",
    "|10|{}|appropriate syntax while telling Python to do special functions or making dictionaries/set|"
   ]
  },
  {
   "cell_type": "markdown",
   "id": "971ef3ec-f4e2-4564-8423-c8949a7e51f2",
   "metadata": {},
   "source": [
    "## Exercise 4"
   ]
  },
  {
   "cell_type": "code",
   "execution_count": 1,
   "id": "2fca2cd6-9837-4e8b-9fdb-c96ed14e7ebc",
   "metadata": {},
   "outputs": [
    {
     "name": "stdout",
     "output_type": "stream",
     "text": [
      "2.5\n"
     ]
    }
   ],
   "source": [
    "# 5/2 - should give me expected division answer, 2.5\n",
    "print(5/2)"
   ]
  },
  {
   "cell_type": "code",
   "execution_count": 3,
   "id": "12013a2c-94ff-4eef-86bf-73d864d08a03",
   "metadata": {},
   "outputs": [
    {
     "name": "stdout",
     "output_type": "stream",
     "text": [
      "2\n"
     ]
    }
   ],
   "source": [
    "# 5//2 - should give me integer output for division, 2\n",
    "print(5//2)"
   ]
  },
  {
   "cell_type": "code",
   "execution_count": 4,
   "id": "f1583da3-62e2-46da-9443-57687283e1e9",
   "metadata": {},
   "outputs": [
    {
     "name": "stdout",
     "output_type": "stream",
     "text": [
      "1\n"
     ]
    }
   ],
   "source": [
    "# 5%2 - should give me remainder after division, 1\n",
    "print(5%2)"
   ]
  }
 ],
 "metadata": {
  "kernelspec": {
   "display_name": "Python 3 (ipykernel)",
   "language": "python",
   "name": "python3"
  },
  "language_info": {
   "codemirror_mode": {
    "name": "ipython",
    "version": 3
   },
   "file_extension": ".py",
   "mimetype": "text/x-python",
   "name": "python",
   "nbconvert_exporter": "python",
   "pygments_lexer": "ipython3",
   "version": "3.12.2"
  },
  "toc": {
   "base_numbering": 1,
   "nav_menu": {},
   "number_sections": true,
   "sideBar": true,
   "skip_h1_title": false,
   "title_cell": "Table of Contents",
   "title_sidebar": "Contents",
   "toc_cell": false,
   "toc_position": {},
   "toc_section_display": true,
   "toc_window_display": false
  },
  "vscode": {
   "interpreter": {
    "hash": "31f2aee4e71d21fbe5cf8b01ff0e069b9275f58929596ceb00d14d90e3e16cd6"
   }
  }
 },
 "nbformat": 4,
 "nbformat_minor": 5
}
