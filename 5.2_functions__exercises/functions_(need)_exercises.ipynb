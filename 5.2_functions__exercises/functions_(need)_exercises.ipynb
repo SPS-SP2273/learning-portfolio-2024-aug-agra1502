{
 "cells": [
  {
   "attachments": {},
   "cell_type": "markdown",
   "id": "123456",
   "metadata": {},
   "source": [
    "<div style=\"text-align:left;font-size:2em\"><span style=\"font-weight:bolder;font-size:1.25em\">SP2273 | Learning Portfolio</span><br><br><span style=\"font-weight:bold;color:darkred\">Functions (Need) Exercises</span></div>"
   ]
  },
  {
   "cell_type": "markdown",
   "id": "198ff453-1842-4e9a-a9f9-917e5a5e7b17",
   "metadata": {},
   "source": [
    "## Exercise 1"
   ]
  },
  {
   "cell_type": "markdown",
   "id": "3e08beba-021a-4078-9478-220180bd64cc",
   "metadata": {},
   "source": [
    "The syntax for ```if``` is just: ```if f(x): print(\"test\")```. It does not require an else to complete the syntax.\n",
    "\n",
    "The function of ```else``` is to catch any input that does not match the if condition. In the given code, the catch-all is given by ```return f'Hello {name}!'``` (fufils the purpose of the ```else``` statement)."
   ]
  },
  {
   "cell_type": "markdown",
   "id": "b80d058d-186f-4b0a-a2c9-2de320c90885",
   "metadata": {},
   "source": [
    "## Exercise 2"
   ]
  },
  {
   "cell_type": "code",
   "execution_count": 10,
   "id": "48091791-6464-4ebf-9443-071c2020eff5",
   "metadata": {},
   "outputs": [],
   "source": [
    "def body_mass_index(weight, height):\n",
    "    bmi = (weight / (height ** 2))\n",
    "\n",
    "    if bmi < 18.5:\n",
    "        print('underweight')\n",
    "    elif 18.5 <= bmi <= 24.9:\n",
    "        print('Normal weight')\n",
    "    elif 25 <= bmi <= 29.9:\n",
    "        print('Overweight')\n",
    "    else:\n",
    "        print('Obese')\n",
    "\n",
    "weight = int(input(\"Weight? \"))\n",
    "height = int(input(\"Height? \"))\n",
    "\n",
    "body_mass_index(weight, height)"
   ]
  },
  {
   "cell_type": "markdown",
   "id": "b728be7e-8740-48be-8894-c5b1cb214f6a",
   "metadata": {},
   "source": [
    "## Exercise 3"
   ]
  },
  {
   "cell_type": "code",
   "execution_count": 27,
   "id": "b0fa4d99-9160-4ee6-8ee1-3c5e8f966bbe",
   "metadata": {},
   "outputs": [
    {
     "name": "stdin",
     "output_type": "stream",
     "text": [
      "What is x?  5\n"
     ]
    },
    {
     "data": {
      "text/plain": [
       "120"
      ]
     },
     "execution_count": 27,
     "metadata": {},
     "output_type": "execute_result"
    }
   ],
   "source": [
    "def factorial(x):\n",
    "    if x == 0:\n",
    "        return 1\n",
    "    elif x < 0:\n",
    "        return factorial(-1*x)\n",
    "    else:\n",
    "        return x*factorial(x-1)\n",
    "\n",
    "factorial(int(input(\"What is x? \")))"
   ]
  }
 ],
 "metadata": {
  "kernelspec": {
   "display_name": "Python 3 (ipykernel)",
   "language": "python",
   "name": "python3"
  },
  "language_info": {
   "codemirror_mode": {
    "name": "ipython",
    "version": 3
   },
   "file_extension": ".py",
   "mimetype": "text/x-python",
   "name": "python",
   "nbconvert_exporter": "python",
   "pygments_lexer": "ipython3",
   "version": "3.12.2"
  },
  "toc": {
   "base_numbering": 1,
   "nav_menu": {},
   "number_sections": true,
   "sideBar": true,
   "skip_h1_title": false,
   "title_cell": "Table of Contents",
   "title_sidebar": "Contents",
   "toc_cell": false,
   "toc_position": {},
   "toc_section_display": true,
   "toc_window_display": false
  },
  "vscode": {
   "interpreter": {
    "hash": "31f2aee4e71d21fbe5cf8b01ff0e069b9275f58929596ceb00d14d90e3e16cd6"
   }
  }
 },
 "nbformat": 4,
 "nbformat_minor": 5
}
