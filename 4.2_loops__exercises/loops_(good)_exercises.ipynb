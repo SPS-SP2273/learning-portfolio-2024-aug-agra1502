{
 "cells": [
  {
   "attachments": {},
   "cell_type": "markdown",
   "id": "123456",
   "metadata": {},
   "source": [
    "<div style=\"text-align:left;font-size:2em\"><span style=\"font-weight:bolder;font-size:1.25em\">SP2273 | Learning Portfolio</span><br><br><span style=\"font-weight:bold;color:darkred\">Loops (Good) Exercises</span></div>"
   ]
  },
  {
   "cell_type": "markdown",
   "id": "12da0f44-771a-48b5-b8e2-d317a0bfe47b",
   "metadata": {},
   "source": [
    "## Exercise 1-3"
   ]
  },
  {
   "cell_type": "code",
   "execution_count": 42,
   "id": "9466dfc7-54a5-45ce-a487-76b8588f09e9",
   "metadata": {},
   "outputs": [
    {
     "name": "stdout",
     "output_type": "stream",
     "text": [
      "2.29 μs ± 8.34 ns per loop (mean ± std. dev. of 7 runs, 100,000 loops each)\n"
     ]
    }
   ],
   "source": [
    "%%timeit\n",
    "\n",
    "py_list = []\n",
    "\n",
    "for nm in range(10):\n",
    "    if nm%2!=0:\n",
    "        nm_square = nm**2\n",
    "        py_list = py_list + [nm_square]"
   ]
  },
  {
   "cell_type": "code",
   "execution_count": 45,
   "id": "f110a88f-3b4a-4e1f-9796-bc9c8f3ca6a8",
   "metadata": {},
   "outputs": [
    {
     "name": "stdout",
     "output_type": "stream",
     "text": [
      "971 ns ± 2.35 ns per loop (mean ± std. dev. of 7 runs, 1,000,000 loops each)\n"
     ]
    }
   ],
   "source": [
    "%%timeit\n",
    "test = [number**2 for number in range(10) if number % 2 != 0]"
   ]
  },
  {
   "cell_type": "markdown",
   "id": "6e02ab93-d748-47a7-811c-89e0b64169e5",
   "metadata": {},
   "source": [
    "The list comprehension method is (1.3us) faster!"
   ]
  },
  {
   "cell_type": "markdown",
   "id": "cdde0982-b882-43d7-a498-47c1daccb85f",
   "metadata": {},
   "source": [
    "## Exercise 4"
   ]
  },
  {
   "cell_type": "code",
   "execution_count": 2,
   "id": "d0bcc305-6ee3-49da-b054-b9c556a3d9d8",
   "metadata": {},
   "outputs": [
    {
     "name": "stdout",
     "output_type": "stream",
     "text": [
      "It will take 15 years\n"
     ]
    }
   ],
   "source": [
    "sample = 100\n",
    "count = 1\n",
    "\n",
    "while sample > 0.5*100:\n",
    "    sample = sample - 0.05*sample\n",
    "    count = count + 1\n",
    "\n",
    "print(f'It will take {count} years')"
   ]
  },
  {
   "cell_type": "markdown",
   "id": "28ae4d62-bbfc-4678-a508-24051d57da16",
   "metadata": {},
   "source": [
    "## Exercise 5"
   ]
  },
  {
   "cell_type": "code",
   "execution_count": 4,
   "id": "b5ff224b-5957-4368-b24e-d72e62037f15",
   "metadata": {},
   "outputs": [],
   "source": [
    "import numpy as np\n",
    "\n",
    "co2_data = [\n",
    "    (2000, 369.55), (2001, 371.14), (2002, 373.28), \n",
    "    (2003, 375.80), (2004, 377.52), (2005, 379.80), \n",
    "    (2006, 381.90), (2007, 383.79), (2008, 385.60), \n",
    "    (2009, 387.43), (2010, 389.90), (2011, 391.65), \n",
    "    (2012, 393.85), (2013, 396.52), (2014, 398.65),\n",
    "    (2015, 400.83), (2016, 404.24), (2017, 406.55), \n",
    "    (2018, 408.52), (2019, 411.44), (2020, 414.24)\n",
    "]\n",
    "\n",
    "co2_data = np.array(co2_data)"
   ]
  },
  {
   "cell_type": "code",
   "execution_count": 8,
   "id": "663d31db-a0cb-48a1-80cc-808b4736a483",
   "metadata": {},
   "outputs": [
    {
     "name": "stdout",
     "output_type": "stream",
     "text": [
      "The difference is 3.41 in 2016\n"
     ]
    }
   ],
   "source": [
    "n = 1\n",
    "\n",
    "for data in co2_data:\n",
    "    if n < len(co2_data):\n",
    "        val = co2_data[n,1]-co2_data[n-1,1]\n",
    "        if val >= 3:\n",
    "            print(f'The difference is {val:.3} in {int(co2_data[n, 0])}')\n",
    "    n += 1"
   ]
  }
 ],
 "metadata": {
  "kernelspec": {
   "display_name": "Python 3 (ipykernel)",
   "language": "python",
   "name": "python3"
  },
  "language_info": {
   "codemirror_mode": {
    "name": "ipython",
    "version": 3
   },
   "file_extension": ".py",
   "mimetype": "text/x-python",
   "name": "python",
   "nbconvert_exporter": "python",
   "pygments_lexer": "ipython3",
   "version": "3.12.2"
  },
  "toc": {
   "base_numbering": 1,
   "nav_menu": {},
   "number_sections": true,
   "sideBar": true,
   "skip_h1_title": false,
   "title_cell": "Table of Contents",
   "title_sidebar": "Contents",
   "toc_cell": false,
   "toc_position": {},
   "toc_section_display": true,
   "toc_window_display": false
  },
  "vscode": {
   "interpreter": {
    "hash": "31f2aee4e71d21fbe5cf8b01ff0e069b9275f58929596ceb00d14d90e3e16cd6"
   }
  }
 },
 "nbformat": 4,
 "nbformat_minor": 5
}
