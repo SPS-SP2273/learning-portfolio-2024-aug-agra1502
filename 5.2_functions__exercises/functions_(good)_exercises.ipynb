{
 "cells": [
  {
   "attachments": {},
   "cell_type": "markdown",
   "id": "123456",
   "metadata": {},
   "source": [
    "<div style=\"text-align:left;font-size:2em\"><span style=\"font-weight:bolder;font-size:1.25em\">SP2273 | Learning Portfolio</span><br><br><span style=\"font-weight:bold;color:darkred\">Functions (Good) Exercises</span></div>"
   ]
  },
  {
   "cell_type": "markdown",
   "id": "afa13ddc-e7d4-49a4-92a8-0503b8c44164",
   "metadata": {},
   "source": [
    "## Exercise 1"
   ]
  },
  {
   "cell_type": "code",
   "execution_count": 20,
   "id": "ce8a1242-b746-4c0b-b8b3-2990326c6fbd",
   "metadata": {},
   "outputs": [],
   "source": [
    "def convert_celsius(temperature_celsius, target_scale = \"Fahrenheit\"):\n",
    "    if target_scale==\"Kelvin\":\n",
    "        return temperature_celsius + 273.15\n",
    "    elif target_scale==\"Fahrenheit\":\n",
    "        return temperature_celsius * 9/5 + 32"
   ]
  },
  {
   "cell_type": "code",
   "execution_count": 18,
   "id": "e3513f45-1881-4fd7-8c78-333173f4f056",
   "metadata": {},
   "outputs": [
    {
     "name": "stdout",
     "output_type": "stream",
     "text": [
      "131.0\n"
     ]
    }
   ],
   "source": [
    "convert_celsius(55,)"
   ]
  },
  {
   "cell_type": "markdown",
   "id": "4343436a-ca4e-4183-9533-f85151fe6d14",
   "metadata": {},
   "source": [
    "## Exercise 2"
   ]
  },
  {
   "cell_type": "code",
   "execution_count": 19,
   "id": "89ec7af4-8f4d-4aeb-b7c6-d4055d9066c7",
   "metadata": {},
   "outputs": [],
   "source": [
    "def convert_fahrenheit(temperature_fahrenheit, target_scale = \"Celsius\"):\n",
    "    if target_scale==\"Kelvin\":\n",
    "        return (temperature_fahrenheit - 32) * 5/9 + 273.15\n",
    "    elif  target_scale==\"Celsius\":\n",
    "        return (temperature_fahrenheit - 32) * 5/9\n",
    "\n",
    "convert_fahrenheit(temperature_celsius, target_scale)"
   ]
  },
  {
   "cell_type": "markdown",
   "id": "9c7c3be2-9fb0-408d-8883-97270e4f0bc2",
   "metadata": {},
   "source": [
    "## Exercise 3"
   ]
  },
  {
   "cell_type": "code",
   "execution_count": 23,
   "id": "bab3aeec-3be9-4d90-924e-54d27ca7249d",
   "metadata": {},
   "outputs": [],
   "source": [
    "def convert_kelvin(temperature_kelvin, target_scale = \"Celsius\"):\n",
    "    if target_scale==\"Fahrenheit\":\n",
    "        return (temperature_kelvin - 273.15) * 9/5 + 32\n",
    "    elif target_scale == \"Celsius\":\n",
    "        return temperature_kelvin - 273.15\n",
    "\n",
    "def convert_temperature(temperature, source_scale, target_scale):\n",
    "    if source_scale == \"Celsius\":\n",
    "        return convert_celsius(temperature, target_scale)\n",
    "    elif source_scale == \"Fahrenheit\":\n",
    "        return convert_fahrenheit(temperature_fahrenheit, target_scale)\n",
    "    elif source_scale == \"Kelvin\":\n",
    "        return convert_kelvin(temperature_kelvin, target_scale)"
   ]
  }
 ],
 "metadata": {
  "kernelspec": {
   "display_name": "Python 3 (ipykernel)",
   "language": "python",
   "name": "python3"
  },
  "language_info": {
   "codemirror_mode": {
    "name": "ipython",
    "version": 3
   },
   "file_extension": ".py",
   "mimetype": "text/x-python",
   "name": "python",
   "nbconvert_exporter": "python",
   "pygments_lexer": "ipython3",
   "version": "3.12.2"
  },
  "toc": {
   "base_numbering": 1,
   "nav_menu": {},
   "number_sections": true,
   "sideBar": true,
   "skip_h1_title": false,
   "title_cell": "Table of Contents",
   "title_sidebar": "Contents",
   "toc_cell": false,
   "toc_position": {},
   "toc_section_display": true,
   "toc_window_display": false
  },
  "vscode": {
   "interpreter": {
    "hash": "31f2aee4e71d21fbe5cf8b01ff0e069b9275f58929596ceb00d14d90e3e16cd6"
   }
  }
 },
 "nbformat": 4,
 "nbformat_minor": 5
}
