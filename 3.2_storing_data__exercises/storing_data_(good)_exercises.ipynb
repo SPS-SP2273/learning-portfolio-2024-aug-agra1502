{
 "cells": [
  {
   "attachments": {},
   "cell_type": "markdown",
   "id": "123456",
   "metadata": {},
   "source": [
    "<div style=\"text-align:left;font-size:2em\"><span style=\"font-weight:bolder;font-size:1.25em\">SP2273 | Learning Portfolio</span><br><br><span style=\"font-weight:bold;color:darkred\">Storing Data (Good) Exercises</span></div>"
   ]
  },
  {
   "cell_type": "markdown",
   "id": "58e90afa-20a1-4936-9386-6681fe18f5e1",
   "metadata": {},
   "source": [
    "## Exercise 1"
   ]
  },
  {
   "cell_type": "markdown",
   "id": "b7ae736f-2e0d-46f1-881e-99236caa3428",
   "metadata": {},
   "source": [
    "|Term|Brief description|\n",
    "|:--|:--|\n",
    "|Subsetting|It is the processing of multi-dimensional lists/arrays; *means to ‘select’.*|\n",
    "|Indexing|To show a particular value at a fixed position in the list/array. Starts from 0 (positive indexing) and -1 (negative indexing); *refers to selecting one element.*|\n",
    "|Slicing|Adding or appending lists/array, eg, .append or list += [2] etc; *refers to selecting a range of elements.*|\n",
    "|Masking|Making any value within the list/array into a bool (True or False). It can be used to show only True of False values|"
   ]
  },
  {
   "cell_type": "markdown",
   "id": "f78dd99d-6ec8-4186-a1a3-71c492a7c889",
   "metadata": {},
   "source": [
    "## Exercise 2"
   ]
  },
  {
   "cell_type": "code",
   "execution_count": 16,
   "id": "2ddfd7e9-ac78-4772-9bfa-aa936a2c23cc",
   "metadata": {},
   "outputs": [
    {
     "data": {
      "text/plain": [
       "array([['1', 'A'],\n",
       "       ['3', 'C'],\n",
       "       ['5', 'E'],\n",
       "       ['7', 'G'],\n",
       "       ['9', 'I']], dtype='<U21')"
      ]
     },
     "execution_count": 16,
     "metadata": {},
     "output_type": "execute_result"
    }
   ],
   "source": [
    "import numpy as np\n",
    "\n",
    "np_array_2d = np.array([[1, \"A\"], [3, \"C\"], [2, \"B\"], [4, \"D\"],\n",
    "                        [5, \"E\"], [7, \"G\"], [6, \"F\"], [8, \"H\"],\n",
    "                        [10, \"J\"], [9, \"I\"]])\n",
    "\n",
    "np_array_2d[(np_array_2d[:,0].astype(int))%2 > 0]\n",
    "\n",
    "# I know the above code is not really readable, and I am not too sure if breaking down into variables is the best thing to do\n",
    "# I will list down each part of the code for my own understanding:\n",
    "#     np_array_2d[:,0] --> for every element in np_array_2d tell me the 0 index\n",
    "#     .astype(int) --> convert to integer\n",
    "#     (np_array_2d[:,0].astype(int))%2 --> modulo of integer values == 1 or 0. If 1, then the number is odd\n",
    "#     > 0 --> to mask (True or False) odd elements"
   ]
  },
  {
   "cell_type": "markdown",
   "id": "3c1aa514-4de8-43ae-9e3d-1171450533cf",
   "metadata": {},
   "source": [
    "## Exercise 3"
   ]
  },
  {
   "cell_type": "code",
   "execution_count": 47,
   "id": "939e987e-259f-4e58-9663-55515d67f7de",
   "metadata": {},
   "outputs": [
    {
     "data": {
      "text/plain": [
       "array([[-1,  0, -1, -1, -1],\n",
       "       [-1, -1, -1, -1, -1],\n",
       "       [-1, -1, -1, -1, -1],\n",
       "       [-1, -1, -1, -1, -1],\n",
       "       [-1, -1, -1, -1, -1]])"
      ]
     },
     "execution_count": 47,
     "metadata": {},
     "output_type": "execute_result"
    }
   ],
   "source": [
    "np_array = np.array([[66, 50, 57, -1, -1],\n",
    " [92, -1, 88, -1, -1],\n",
    " [75, -1, -1, 76, -1],\n",
    " [-1, 51, 87, -1, -1],\n",
    " [71, -1, 67, -1, 69]])\n",
    "\n",
    "np_array[(np_array > 50)] = 1\n",
    "np_array[(np_array < 50)] = -1\n",
    "np_array[(np_array == 50)] = 0\n",
    "\n",
    "np_array"
   ]
  }
 ],
 "metadata": {
  "kernelspec": {
   "display_name": "Python 3 (ipykernel)",
   "language": "python",
   "name": "python3"
  },
  "language_info": {
   "codemirror_mode": {
    "name": "ipython",
    "version": 3
   },
   "file_extension": ".py",
   "mimetype": "text/x-python",
   "name": "python",
   "nbconvert_exporter": "python",
   "pygments_lexer": "ipython3",
   "version": "3.12.2"
  },
  "toc": {
   "base_numbering": 1,
   "nav_menu": {},
   "number_sections": true,
   "sideBar": true,
   "skip_h1_title": false,
   "title_cell": "Table of Contents",
   "title_sidebar": "Contents",
   "toc_cell": false,
   "toc_position": {},
   "toc_section_display": true,
   "toc_window_display": false
  },
  "vscode": {
   "interpreter": {
    "hash": "31f2aee4e71d21fbe5cf8b01ff0e069b9275f58929596ceb00d14d90e3e16cd6"
   }
  }
 },
 "nbformat": 4,
 "nbformat_minor": 5
}
