{
 "cells": [
  {
   "attachments": {},
   "cell_type": "markdown",
   "id": "123456",
   "metadata": {},
   "source": [
    "<div style=\"text-align:left;font-size:2em\"><span style=\"font-weight:bolder;font-size:1.25em\">SP2273 | Learning Portfolio</span><br><br><span style=\"font-weight:bold;color:darkred\">Loops (Need) Exercises</span></div>"
   ]
  },
  {
   "cell_type": "markdown",
   "id": "e34b2b59-d32c-4eb1-85be-0af0d97fd912",
   "metadata": {},
   "source": [
    "## Exercise 1"
   ]
  },
  {
   "cell_type": "code",
   "execution_count": 95,
   "id": "7d103c91-d105-4704-a2f6-a3d32ea7171a",
   "metadata": {},
   "outputs": [
    {
     "data": {
      "text/plain": [
       "[[0, 32.0],\n",
       " [5, 41.0],\n",
       " [10, 50.0],\n",
       " [15, 59.0],\n",
       " [20, 68.0],\n",
       " [25, 77.0],\n",
       " [30, 86.0],\n",
       " [35, 95.0],\n",
       " [40, 104.0],\n",
       " [45, 113.0],\n",
       " [50, 122.0]]"
      ]
     },
     "execution_count": 95,
     "metadata": {},
     "output_type": "execute_result"
    }
   ],
   "source": [
    "temperatures_celsius = [\n",
    "    0, 5, 10, 15, 20, 25,\n",
    "    30, 35, 40, 45, 50\n",
    "]\n",
    "\n",
    "fah_lst = []\n",
    "\n",
    "# Option 1\n",
    "\n",
    "for temperature in temperatures_celsius:\n",
    "    fah_lst.append([temperature, (temperature*(9/5))+32])\n",
    "\n",
    "fah_lst\n",
    "\n",
    "# Option 2\n",
    "\n",
    "# for temperature in temperatures_celsius:\n",
    "#     fah_lst.append((temperature*(9/5))+32)\n",
    "\n",
    "# cel_fah_list = dict(zip(temperatures_celsius,fah_lst))"
   ]
  },
  {
   "cell_type": "markdown",
   "id": "b81a5aa2-2248-4d73-9a78-614ddc3250f3",
   "metadata": {},
   "source": [
    "## Exercise 2"
   ]
  },
  {
   "cell_type": "code",
   "execution_count": 3,
   "id": "3726a7ec-83dc-4636-ae80-19afdabb0bf5",
   "metadata": {},
   "outputs": [
    {
     "name": "stdout",
     "output_type": "stream",
     "text": [
      "1 : \t1\t2\t3\t4\t5\t\n",
      "\n",
      "2 : \t2\t4\t6\t8\t10\t\n",
      "\n",
      "3 : \t3\t6\t9\t12\t15\t\n",
      "\n",
      "4 : \t4\t8\t12\t16\t20\t\n",
      "\n",
      "5 : \t5\t10\t15\t20\t25\t\n",
      "\n"
     ]
    }
   ],
   "source": [
    "import numpy as np\n",
    "\n",
    "nm_lst = [1,2,3,4,5]\n",
    "mlt_lst = [1,2,3,4,5]\n",
    "\n",
    "for nm in nm_lst:\n",
    "    \n",
    "    print(f'{nm} : ', end='\\t')\n",
    "    \n",
    "    for mlt in mlt_lst:\n",
    "        print(f'{nm*mlt}', end='\\t')\n",
    "\n",
    "    print('\\n')\n",
    "\n",
    "# Option 2\n",
    "\n",
    "# for index in range(len(nm_lst)):\n",
    "    \n",
    "#     for mlt in mlt_lst:\n",
    "#         print(nm_lst[index]*mlt, end='\\t')\n",
    "\n",
    "#     print('\\n')"
   ]
  },
  {
   "cell_type": "markdown",
   "id": "d453f9af-6da5-466e-8155-d54395991b3b",
   "metadata": {},
   "source": [
    "## Exercise 3"
   ]
  },
  {
   "cell_type": "code",
   "execution_count": 2,
   "id": "a9169fe9-5828-4b22-9333-d267d74a5ec0",
   "metadata": {},
   "outputs": [
    {
     "name": "stdout",
     "output_type": "stream",
     "text": [
      "Experiment  1: No. of Heads = 7\n",
      "Experiment  2: No. of Heads = 4\n",
      "Experiment  3: No. of Heads = 4\n",
      "Experiment  4: No. of Heads = 6\n",
      "Experiment  5: No. of Heads = 6\n",
      "Experiment  6: No. of Heads = 6\n",
      "Experiment  7: No. of Heads = 7\n",
      "Experiment  8: No. of Heads = 7\n",
      "Experiment  9: No. of Heads = 4\n",
      "Experiment 10: No. of Heads = 6\n"
     ]
    }
   ],
   "source": [
    "import numpy as np\n",
    "\n",
    "count = 1\n",
    "\n",
    "for nm in range(10):\n",
    "    np_array = np.random.rand(10)\n",
    "    np_mask = np_array > 0.5\n",
    "    length = len(np_array[np_mask])\n",
    "    \n",
    "    print(f'Experiment {count: >2}: No. of Heads = {length}')\n",
    "    count = count + 1"
   ]
  }
 ],
 "metadata": {
  "kernelspec": {
   "display_name": "Python 3 (ipykernel)",
   "language": "python",
   "name": "python3"
  },
  "language_info": {
   "codemirror_mode": {
    "name": "ipython",
    "version": 3
   },
   "file_extension": ".py",
   "mimetype": "text/x-python",
   "name": "python",
   "nbconvert_exporter": "python",
   "pygments_lexer": "ipython3",
   "version": "3.12.2"
  },
  "toc": {
   "base_numbering": 1,
   "nav_menu": {},
   "number_sections": true,
   "sideBar": true,
   "skip_h1_title": false,
   "title_cell": "Table of Contents",
   "title_sidebar": "Contents",
   "toc_cell": false,
   "toc_position": {},
   "toc_section_display": true,
   "toc_window_display": false
  },
  "vscode": {
   "interpreter": {
    "hash": "31f2aee4e71d21fbe5cf8b01ff0e069b9275f58929596ceb00d14d90e3e16cd6"
   }
  }
 },
 "nbformat": 4,
 "nbformat_minor": 5
}
