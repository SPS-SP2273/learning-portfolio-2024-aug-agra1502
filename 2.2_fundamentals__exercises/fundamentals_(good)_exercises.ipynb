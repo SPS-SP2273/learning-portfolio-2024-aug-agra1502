{
 "cells": [
  {
   "cell_type": "markdown",
   "id": "e7aba8e6-1cfd-433a-8bcd-32f39eeb9f40",
   "metadata": {},
   "source": [
    "# Fundamentals (Good) Exercises"
   ]
  },
  {
   "cell_type": "markdown",
   "id": "fbaaff8a-cbbb-47dd-b72f-abebb0f8747c",
   "metadata": {},
   "source": [
    "## Exercise 1"
   ]
  },
  {
   "cell_type": "code",
   "execution_count": 19,
   "id": "fbbf8712-98d7-468b-bdb2-b1b449f9a539",
   "metadata": {},
   "outputs": [
    {
     "name": "stdin",
     "output_type": "stream",
     "text": [
      "Please provide me with a number? 59\n"
     ]
    },
    {
     "name": "stdout",
     "output_type": "stream",
     "text": [
      "You entered 59\n"
     ]
    }
   ],
   "source": [
    "user_input = input( 'Please provide me with a number?')\n",
    "print( 'You entered', user_input)"
   ]
  },
  {
   "cell_type": "code",
   "execution_count": 21,
   "id": "41547956-1402-49d4-a48c-ae128672ee5f",
   "metadata": {},
   "outputs": [
    {
     "name": "stdin",
     "output_type": "stream",
     "text": [
      "Please provide me with a name!  Yash\n"
     ]
    },
    {
     "name": "stdout",
     "output_type": "stream",
     "text": [
      "How you doin YASH!\n"
     ]
    }
   ],
   "source": [
    "user_input = input('Please provide me with a name! ')\n",
    "print(f'How you doin {user_input.upper()}!')"
   ]
  },
  {
   "cell_type": "code",
   "execution_count": 24,
   "id": "2bce1aea-0998-4ddb-8724-63e812de4a0e",
   "metadata": {},
   "outputs": [
    {
     "name": "stdin",
     "output_type": "stream",
     "text": [
      "Please provide me with a name!  Yash\n",
      "Please provide me with a age!  17\n"
     ]
    },
    {
     "name": "stdout",
     "output_type": "stream",
     "text": [
      "My name is YASH and I am 17 years old.\n"
     ]
    }
   ],
   "source": [
    "user_name = input( 'Please provide me with a name! ')\n",
    "user_age = input( 'Please provide me with a age! ')\n",
    "print(f\"My name is {user_input.upper()} and I am {user_age} years old.\")"
   ]
  },
  {
   "cell_type": "code",
   "execution_count": 25,
   "id": "6ff6c9bb-09cc-45dd-824e-78daaea3a876",
   "metadata": {},
   "outputs": [
    {
     "name": "stdout",
     "output_type": "stream",
     "text": [
      "3.14, 3.142, 3.1416\n"
     ]
    }
   ],
   "source": [
    "# The value of pi to 2 decimal places is: 3.14\n",
    "# The value of pi to 3 decimal places is: 3.142\n",
    "# The value of pi to 4 decimal places is: 3.1416\n",
    "\n",
    "pi = 3.141592653589793\n",
    "print(f'{pi:.2f}, {pi:.3f}, {pi:.4f}')"
   ]
  },
  {
   "cell_type": "code",
   "execution_count": 8,
   "id": "ba926164-af01-4f6c-933c-23085631d350",
   "metadata": {},
   "outputs": [
    {
     "name": "stdout",
     "output_type": "stream",
     "text": [
      "Apple      $ 0.99\n",
      "Banana     $ 0.59\n",
      "Orange     $ 1.29\n"
     ]
    }
   ],
   "source": [
    "fruit1, price1 = \"Apple\", 0.99\n",
    "fruit2, price2 = \"Banana\", 0.59\n",
    "fruit3, price3 = \"Orange\", 1.29\n",
    "print(f'{fruit1: <10}', f'$ {price1: <4}')\n",
    "print(f'{fruit2: <10}', f'$ {price2: <4}')\n",
    "print(f'{fruit3: <10}', f'$ {price3: <4}')"
   ]
  },
  {
   "cell_type": "markdown",
   "id": "8b2ab7a8-1bfa-4066-ae34-08434af327c6",
   "metadata": {},
   "source": [
    "## Exercise 2"
   ]
  },
  {
   "cell_type": "code",
   "execution_count": 5,
   "id": "a2d896dc-5b41-4173-85a6-37cc0b10c08c",
   "metadata": {},
   "outputs": [
    {
     "name": "stdin",
     "output_type": "stream",
     "text": [
      "Enter the student's score:  150\n"
     ]
    },
    {
     "name": "stdout",
     "output_type": "stream",
     "text": [
      "The score input is incorrect\n"
     ]
    }
   ],
   "source": [
    "score = int(input(\"Enter the student's score: \"))\n",
    "\n",
    "if 70 <= score <= 100:\n",
    "    print(\"The student's letter grade is: A\")\n",
    "elif 50 <= score <= 69:\n",
    "    print(\"The student's letter grade is: B\")\n",
    "elif 35 <= score <= 49:\n",
    "    print(\"The student's letter grade is: C\")\n",
    "elif 0 <= score <= 34:\n",
    "    print(\"The student's letter grade is: Fail\")\n",
    "else:\n",
    "    print(\"The score input is incorrect\")"
   ]
  },
  {
   "cell_type": "markdown",
   "id": "8dc1add8-4028-4bc2-89b0-8aa7d26d59e6",
   "metadata": {},
   "source": [
    "## Exercise 3"
   ]
  },
  {
   "cell_type": "code",
   "execution_count": 18,
   "id": "dcecfe47-9875-4732-83ac-bc9bf47b5c84",
   "metadata": {},
   "outputs": [
    {
     "name": "stdout",
     "output_type": "stream",
     "text": [
      "120\n",
      "Invalid input\n"
     ]
    }
   ],
   "source": [
    "def factorial(n):\n",
    "    if n > 0: # Correction 1, 'else' code inserted here\n",
    "        result = 1\n",
    "        for number in range(1, n+1):\n",
    "            result *= number # the + changed to *\n",
    "        return result\n",
    "    elif n == 0: # Changed to != to ==\n",
    "        return 1\n",
    "    else: # added \"Invalid input\" statement\n",
    "        return \"Invalid input\"\n",
    "\n",
    "\n",
    "print(factorial(5))   # Testing, expected output: 120\n",
    "print(factorial(-1))  # Testing, expected output: Invalid input"
   ]
  }
 ],
 "metadata": {
  "kernelspec": {
   "display_name": "Python 3 (ipykernel)",
   "language": "python",
   "name": "python3"
  },
  "language_info": {
   "codemirror_mode": {
    "name": "ipython",
    "version": 3
   },
   "file_extension": ".py",
   "mimetype": "text/x-python",
   "name": "python",
   "nbconvert_exporter": "python",
   "pygments_lexer": "ipython3",
   "version": "3.12.2"
  }
 },
 "nbformat": 4,
 "nbformat_minor": 5
}
